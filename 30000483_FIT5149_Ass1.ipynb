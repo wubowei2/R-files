{
 "cells": [
  {
   "cell_type": "markdown",
   "metadata": {},
   "source": [
    "# FIT5149 S1 2020 Assessment 1: \n",
    "# Bushfire Analysis using Meteorological Data\n",
    "\n",
    "Student information\n",
    "- Family Name: Wu\n",
    "- Given Name: Bowei\n",
    "- Student ID: 30000483\n",
    "- Student email: bwuu0019@student.monash.edu\n",
    "\n",
    "Programming Language: R 3.5.1 in Jupyter Notebook\n",
    "\n",
    "R Libraries used:\n",
    "- dplyr\n",
    "- plyr\n",
    "- psych\n",
    "- ggplot2\n",
    "- GGally\n",
    "- leaps\n",
    "- ggpubr\n",
    "- car\n",
    "- glmnet\n",
    "- FNN"
   ]
  },
  {
   "cell_type": "markdown",
   "metadata": {},
   "source": [
    "# Table of Contents\n",
    "\n",
    "* [Introduction](#sec_1)\n",
    "* [Data Exploration](#sec_2)\n",
    "* [Model Development](#sec_3)\n",
    "* [Model Comparison](#sec_4)\n",
    "* [Variable Identification and Explanation](#sec_5)\n",
    "* [Conclusion](#sec_6)\n",
    "* [References](#sec_7)"
   ]
  },
  {
   "cell_type": "markdown",
   "metadata": {},
   "source": [
    "# 1. Introduction <a class=\"anchor\" id=\"sec_1\"></a>"
   ]
  },
  {
   "cell_type": "markdown",
   "metadata": {},
   "source": [
    "This notebook reports several findings of the data analysis performed on the area burned based on the dataset \"forestfires.csv\". The dataset contains 517 rows and 13 columns to describe the status of the area burned during bushfires from the northeast region of Portugal between January 2000 and December 2003. This data analysis aims to predict the burned area of a bushfire given the collected area and explaining the prediction and associated findings. \n",
    "\n",
    "The first section shows the explanatory data analysis(EDA) to explore and understand the data. This section includes some data wrangling and transformation, for a better understanding of the data and their distribution. Besides, correlation analysis also conducted through visual analysis. The key findings of the EDA will be concluded in summary. \n",
    "\n",
    "The second section shows the development of different regression models and relevant discussion of each model. This section splits the dataset into a training set and testing set, and train models based on the training dataset. Then predict the area in the test set using trained models. The process of building models and subset selection will be clearly explained. \n",
    "\n",
    "The third section calculates the error between the predicted area from each trained model and the actual burned area, and discuss which model has the highest accuracy in predicting area. The difference among each model and associated advantages and disadvantages will be fully discussed\n",
    "\n",
    "The last section interprets the inference of each model. The discussion includes the significance of each explanatory variable in the regression model, the relationship between the response and each predictor, and whether the relationship between burned area and each predictor is linear related or more complicated. "
   ]
  },
  {
   "cell_type": "markdown",
   "metadata": {},
   "source": [
    "## Load Library"
   ]
  },
  {
   "cell_type": "code",
   "execution_count": 1,
   "metadata": {},
   "outputs": [
    {
     "name": "stderr",
     "output_type": "stream",
     "text": [
      "Warning message:\n",
      "\"package 'dplyr' was built under R version 3.6.3\"\n",
      "Attaching package: 'dplyr'\n",
      "\n",
      "The following objects are masked from 'package:stats':\n",
      "\n",
      "    filter, lag\n",
      "\n",
      "The following objects are masked from 'package:base':\n",
      "\n",
      "    intersect, setdiff, setequal, union\n",
      "\n",
      "------------------------------------------------------------------------------\n",
      "You have loaded plyr after dplyr - this is likely to cause problems.\n",
      "If you need functions from both plyr and dplyr, please load plyr first, then dplyr:\n",
      "library(plyr); library(dplyr)\n",
      "------------------------------------------------------------------------------\n",
      "\n",
      "Attaching package: 'plyr'\n",
      "\n",
      "The following objects are masked from 'package:dplyr':\n",
      "\n",
      "    arrange, count, desc, failwith, id, mutate, rename, summarise,\n",
      "    summarize\n",
      "\n",
      "Warning message:\n",
      "\"package 'psych' was built under R version 3.6.3\"Registered S3 methods overwritten by 'ggplot2':\n",
      "  method         from \n",
      "  [.quosures     rlang\n",
      "  c.quosures     rlang\n",
      "  print.quosures rlang\n",
      "\n",
      "Attaching package: 'ggplot2'\n",
      "\n",
      "The following objects are masked from 'package:psych':\n",
      "\n",
      "    %+%, alpha\n",
      "\n",
      "Warning message:\n",
      "\"package 'GGally' was built under R version 3.6.3\"Registered S3 method overwritten by 'GGally':\n",
      "  method from   \n",
      "  +.gg   ggplot2\n",
      "\n",
      "Attaching package: 'GGally'\n",
      "\n",
      "The following object is masked from 'package:dplyr':\n",
      "\n",
      "    nasa\n",
      "\n",
      "Warning message:\n",
      "\"package 'leaps' was built under R version 3.6.3\"Warning message:\n",
      "\"package 'ggpubr' was built under R version 3.6.3\"\n",
      "Attaching package: 'ggpubr'\n",
      "\n",
      "The following object is masked from 'package:plyr':\n",
      "\n",
      "    mutate\n",
      "\n",
      "Warning message:\n",
      "\"package 'car' was built under R version 3.6.3\"Loading required package: carData\n",
      "\n",
      "Attaching package: 'car'\n",
      "\n",
      "The following object is masked from 'package:psych':\n",
      "\n",
      "    logit\n",
      "\n",
      "The following object is masked from 'package:dplyr':\n",
      "\n",
      "    recode\n",
      "\n",
      "Loading required package: Matrix\n",
      "Loading required package: foreach\n",
      "Loaded glmnet 2.0-16\n",
      "\n",
      "Warning message:\n",
      "\"package 'FNN' was built under R version 3.6.3\""
     ]
    }
   ],
   "source": [
    "library(dplyr)\n",
    "library(plyr)\n",
    "library(psych)\n",
    "library(ggplot2)\n",
    "library(GGally)\n",
    "library(leaps)\n",
    "library(ggpubr)\n",
    "library(car)\n",
    "library(glmnet)\n",
    "library(FNN)"
   ]
  },
  {
   "cell_type": "markdown",
   "metadata": {},
   "source": [
    "## Read Data"
   ]
  },
  {
   "cell_type": "code",
   "execution_count": 2,
   "metadata": {},
   "outputs": [],
   "source": [
    "# Load the data set\n",
    "data = read.csv('forestfires.csv')"
   ]
  },
  {
   "cell_type": "markdown",
   "metadata": {},
   "source": [
    "# 2. Data Exploration<a class=\"anchor\" id=\"sec_2\"></a>"
   ]
  },
  {
   "cell_type": "markdown",
   "metadata": {},
   "source": [
    "## a. Overview of the datasets"
   ]
  },
  {
   "cell_type": "code",
   "execution_count": 3,
   "metadata": {},
   "outputs": [
    {
     "name": "stdout",
     "output_type": "stream",
     "text": [
      "'data.frame':\t517 obs. of  13 variables:\n",
      " $ X    : int  7 7 7 8 8 8 8 8 8 7 ...\n",
      " $ Y    : int  5 4 4 6 6 6 6 6 6 5 ...\n",
      " $ month: Factor w/ 12 levels \"apr\",\"aug\",\"dec\",..: 8 11 11 8 8 2 2 2 12 12 ...\n",
      " $ day  : Factor w/ 7 levels \"fri\",\"mon\",\"sat\",..: 1 6 3 1 4 4 2 2 6 3 ...\n",
      " $ FFMC : num  86.2 90.6 90.6 91.7 89.3 92.3 92.3 91.5 91 92.5 ...\n",
      " $ DMC  : num  26.2 35.4 43.7 33.3 51.3 ...\n",
      " $ DC   : num  94.3 669.1 686.9 77.5 102.2 ...\n",
      " $ ISI  : num  5.1 6.7 6.7 9 9.6 14.7 8.5 10.7 7 7.1 ...\n",
      " $ temp : num  8.2 18 14.6 8.3 11.4 22.2 24.1 8 13.1 22.8 ...\n",
      " $ RH   : int  51 33 33 97 99 29 27 86 63 40 ...\n",
      " $ wind : num  6.7 0.9 1.3 4 1.8 5.4 3.1 2.2 5.4 4 ...\n",
      " $ rain : num  0 0 0 0.2 0 0 0 0 0 0 ...\n",
      " $ area : num  0 0 0 0 0 0 0 0 0 0 ...\n"
     ]
    }
   ],
   "source": [
    "# Display the structure\n",
    "str(data)"
   ]
  },
  {
   "cell_type": "code",
   "execution_count": 4,
   "metadata": {},
   "outputs": [
    {
     "data": {
      "text/plain": [
       "       X               Y           month      day          FFMC      \n",
       " Min.   :1.000   Min.   :2.0   aug    :184   fri:85   Min.   :18.70  \n",
       " 1st Qu.:3.000   1st Qu.:4.0   sep    :172   mon:74   1st Qu.:90.20  \n",
       " Median :4.000   Median :4.0   mar    : 54   sat:84   Median :91.60  \n",
       " Mean   :4.669   Mean   :4.3   jul    : 32   sun:95   Mean   :90.64  \n",
       " 3rd Qu.:7.000   3rd Qu.:5.0   feb    : 20   thu:61   3rd Qu.:92.90  \n",
       " Max.   :9.000   Max.   :9.0   jun    : 17   tue:64   Max.   :96.20  \n",
       "                               (Other): 38   wed:54                  \n",
       "      DMC              DC             ISI              temp      \n",
       " Min.   :  1.1   Min.   :  7.9   Min.   : 0.000   Min.   : 2.20  \n",
       " 1st Qu.: 68.6   1st Qu.:437.7   1st Qu.: 6.500   1st Qu.:15.50  \n",
       " Median :108.3   Median :664.2   Median : 8.400   Median :19.30  \n",
       " Mean   :110.9   Mean   :547.9   Mean   : 9.022   Mean   :18.89  \n",
       " 3rd Qu.:142.4   3rd Qu.:713.9   3rd Qu.:10.800   3rd Qu.:22.80  \n",
       " Max.   :291.3   Max.   :860.6   Max.   :56.100   Max.   :33.30  \n",
       "                                                                 \n",
       "       RH              wind            rain              area        \n",
       " Min.   : 15.00   Min.   :0.400   Min.   :0.00000   Min.   :   0.00  \n",
       " 1st Qu.: 33.00   1st Qu.:2.700   1st Qu.:0.00000   1st Qu.:   0.00  \n",
       " Median : 42.00   Median :4.000   Median :0.00000   Median :   0.52  \n",
       " Mean   : 44.29   Mean   :4.018   Mean   :0.02166   Mean   :  12.85  \n",
       " 3rd Qu.: 53.00   3rd Qu.:4.900   3rd Qu.:0.00000   3rd Qu.:   6.57  \n",
       " Max.   :100.00   Max.   :9.400   Max.   :6.40000   Max.   :1090.84  \n",
       "                                                                     "
      ]
     },
     "metadata": {},
     "output_type": "display_data"
    }
   ],
   "source": [
    "# Statistic summary\n",
    "summary(data)"
   ]
  },
  {
   "cell_type": "markdown",
   "metadata": {},
   "source": [
    "### Summary of attributes"
   ]
  },
  {
   "cell_type": "markdown",
   "metadata": {},
   "source": [
    "Based on the structure of each variable and the summary description in the data provided above, this dataset contains 517 observations, each with 13 attributes. The structures of attributes include integer, factor, and numeric. A more detailed summary of each attribute is provided"
   ]
  },
  {
   "cell_type": "markdown",
   "metadata": {},
   "source": [
    "**X:** x-axis spatial coordinate within the Montesinho park map: 1 to 9\n",
    "\n",
    "**Y:** y-axis spatial coordinate within the Montesinho park map: 2 to 9\n",
    "\n",
    "**month:** month of the year: \"jan\" to \"dec\" \n",
    "\n",
    "**day:** day of the week: \"mon\" to \"sun\"\n",
    "\n",
    "**FFMC:** Fine fuel moisture code from the FWI system: 18.7 to 96.20. It denotes the moisture content surface litter and influences ignition and fire spread\n",
    "\n",
    "**DMC:** Duff moisture code from the FWI system: 1.1 to 291.3. It represent the moisture content of shallow and deep organic layers, which affect fire intensity\n",
    "\n",
    "**DC:** Drought code from the FWI system: 7.9 to 860.6. It also represent the moisture content of shallow and deep organic layers, which affect\n",
    "fire intensity\n",
    "\n",
    "**ISI:** ISI index from the FWI system: 0.0 to 56.10. A score that correlates with fire velocity spread\n",
    "\n",
    "**temp:** temperature in Celsius degrees: 2.2 to 33.30\n",
    "\n",
    "**RH:** relative humidity in %: 15.0 to 100\n",
    "\n",
    "**wind:** wind speed in km/h: 0.40 to 9.40\n",
    "\n",
    "**rain:** outside rain in mm/m2 : 0.0 to 6.4\n",
    "\n",
    "**area:** the burned area of the forest (in ha): 0.00 to 1090.84"
   ]
  },
  {
   "cell_type": "markdown",
   "metadata": {},
   "source": [
    "## b. Data Wrangling"
   ]
  },
  {
   "cell_type": "markdown",
   "metadata": {},
   "source": [
    "This section transforms the data and introduces some new variables, to see whether the new variables help in explaning the variation in the response variable. "
   ]
  },
  {
   "cell_type": "code",
   "execution_count": 5,
   "metadata": {},
   "outputs": [],
   "source": [
    "# level the structure for the variables month and day\n",
    "data$month = factor(data$month, levels = c('jan', 'feb', 'mar', 'apr', 'may', 'jun', 'jul', 'aug', 'sep', 'oct', 'nov', 'dec'))\n",
    "data$day = factor(data$day, levels = c('mon', 'tue', 'wed', 'thu', 'fri', 'sat', 'sun'))\n",
    "\n",
    "# convert the structure for coordinates X and Y into factor instead of integer\n",
    "data$X = factor(data$X)\n",
    "data$Y = factor(data$Y)"
   ]
  },
  {
   "cell_type": "code",
   "execution_count": 6,
   "metadata": {},
   "outputs": [],
   "source": [
    "# Create a variable, and rename the values in the attribute day\n",
    "# Rename the day during weekday into weekday\n",
    "data$day_type = NA\n",
    "data[data$day %in% c('mon', 'tue', 'wed', 'thu', 'fri'), 14] = 'Workingday'\n",
    "data[data$day %in% c('sat', 'sun'), 14] = 'Weekend'\n",
    "\n",
    "# Convert into factor instead of string\n",
    "data$day_type = factor(data$day_type)\n",
    "\n",
    "# Create a variable, and rename the values in the attribute month\n",
    "# Rename the month according to the season in Portugal\n",
    "data$season = NA\n",
    "data[data$month %in% c('jan', 'feb', 'dec'), 15] = 'Winter'\n",
    "data[data$month %in% c('mar', 'apr', 'may'), 15] = 'Spring'\n",
    "data[data$month %in% c('jun', 'jul', 'aug'), 15] = 'Summer'\n",
    "data[data$month %in% c('sep', 'oct', 'nov'), 15] = 'Autumn'\n",
    "data$season = factor(data$season, level = c('Winter', 'Spring', 'Summer', 'Autumn'))"
   ]
  },
  {
   "cell_type": "code",
   "execution_count": 7,
   "metadata": {},
   "outputs": [
    {
     "data": {
      "text/html": [
       "<table>\n",
       "<thead><tr><th></th><th scope=col>vars</th><th scope=col>n</th><th scope=col>mean</th><th scope=col>sd</th><th scope=col>median</th><th scope=col>trimmed</th><th scope=col>mad</th><th scope=col>min</th><th scope=col>max</th><th scope=col>range</th><th scope=col>skew</th><th scope=col>kurtosis</th><th scope=col>se</th></tr></thead>\n",
       "<tbody>\n",
       "\t<tr><th scope=row>FFMC</th><td>1           </td><td>517         </td><td> 90.64468085</td><td>  5.5201108 </td><td> 91.60      </td><td> 91.454940  </td><td>  1.927380  </td><td>18.7        </td><td>  96.20     </td><td>  77.50     </td><td>-6.5374989  </td><td> 66.1393621 </td><td> 0.24277420 </td></tr>\n",
       "\t<tr><th scope=row>DMC</th><td>2           </td><td>517         </td><td>110.87234043</td><td> 64.0464822 </td><td>108.30      </td><td>106.522410  </td><td> 51.742740  </td><td> 1.1        </td><td> 291.30     </td><td> 290.20     </td><td> 0.5443249  </td><td>  0.1789299 </td><td> 2.81676107 </td></tr>\n",
       "\t<tr><th scope=row>DC</th><td>3           </td><td>517         </td><td>547.94003868</td><td>248.0661917 </td><td>664.20      </td><td>578.692289  </td><td>118.904520  </td><td> 7.9        </td><td> 860.60     </td><td> 852.70     </td><td>-1.0940678  </td><td> -0.2650719 </td><td>10.90993864 </td></tr>\n",
       "\t<tr><th scope=row>ISI</th><td>4           </td><td>517         </td><td>  9.02166344</td><td>  4.5594772 </td><td>  8.40      </td><td>  8.727470  </td><td>  3.113460  </td><td> 0.0        </td><td>  56.10     </td><td>  56.10     </td><td> 2.5216267  </td><td> 21.1458110 </td><td> 0.20052558 </td></tr>\n",
       "\t<tr><th scope=row>temp</th><td>5           </td><td>517         </td><td> 18.88916828</td><td>  5.8066253 </td><td> 19.30      </td><td> 19.091084  </td><td>  5.337360  </td><td> 2.2        </td><td>  33.30     </td><td>  31.10     </td><td>-0.3292530  </td><td>  0.1111986 </td><td> 0.25537509 </td></tr>\n",
       "\t<tr><th scope=row>RH</th><td>6           </td><td>517         </td><td> 44.28820116</td><td> 16.3174692 </td><td> 42.00      </td><td> 42.706024  </td><td> 14.826000  </td><td>15.0        </td><td> 100.00     </td><td>  85.00     </td><td> 0.8579033  </td><td>  0.4091470 </td><td> 0.71764148 </td></tr>\n",
       "\t<tr><th scope=row>wind</th><td>7           </td><td>517         </td><td>  4.01760155</td><td>  1.7916526 </td><td>  4.00      </td><td>  3.898795  </td><td>  1.927380  </td><td> 0.4        </td><td>   9.40     </td><td>   9.00     </td><td> 0.5676920  </td><td>  0.0304595 </td><td> 0.07879679 </td></tr>\n",
       "\t<tr><th scope=row>rain</th><td>8           </td><td>517         </td><td>  0.02166344</td><td>  0.2959591 </td><td>  0.00      </td><td>  0.000000  </td><td>  0.000000  </td><td> 0.0        </td><td>   6.40     </td><td>   6.40     </td><td>19.7015038  </td><td>415.5969287 </td><td> 0.01301627 </td></tr>\n",
       "\t<tr><th scope=row>area</th><td>9           </td><td>517         </td><td> 12.84729207</td><td> 63.6558185 </td><td>  0.52      </td><td>  3.181952  </td><td>  0.770952  </td><td> 0.0        </td><td>1090.84     </td><td>1090.84     </td><td>12.7724827  </td><td>191.5020312 </td><td> 2.79957970 </td></tr>\n",
       "</tbody>\n",
       "</table>\n"
      ],
      "text/latex": [
       "\\begin{tabular}{r|lllllllllllll}\n",
       "  & vars & n & mean & sd & median & trimmed & mad & min & max & range & skew & kurtosis & se\\\\\n",
       "\\hline\n",
       "\tFFMC & 1            & 517          &  90.64468085 &   5.5201108  &  91.60       &  91.454940   &   1.927380   & 18.7         &   96.20      &   77.50      & -6.5374989   &  66.1393621  &  0.24277420 \\\\\n",
       "\tDMC & 2            & 517          & 110.87234043 &  64.0464822  & 108.30       & 106.522410   &  51.742740   &  1.1         &  291.30      &  290.20      &  0.5443249   &   0.1789299  &  2.81676107 \\\\\n",
       "\tDC & 3            & 517          & 547.94003868 & 248.0661917  & 664.20       & 578.692289   & 118.904520   &  7.9         &  860.60      &  852.70      & -1.0940678   &  -0.2650719  & 10.90993864 \\\\\n",
       "\tISI & 4            & 517          &   9.02166344 &   4.5594772  &   8.40       &   8.727470   &   3.113460   &  0.0         &   56.10      &   56.10      &  2.5216267   &  21.1458110  &  0.20052558 \\\\\n",
       "\ttemp & 5            & 517          &  18.88916828 &   5.8066253  &  19.30       &  19.091084   &   5.337360   &  2.2         &   33.30      &   31.10      & -0.3292530   &   0.1111986  &  0.25537509 \\\\\n",
       "\tRH & 6            & 517          &  44.28820116 &  16.3174692  &  42.00       &  42.706024   &  14.826000   & 15.0         &  100.00      &   85.00      &  0.8579033   &   0.4091470  &  0.71764148 \\\\\n",
       "\twind & 7            & 517          &   4.01760155 &   1.7916526  &   4.00       &   3.898795   &   1.927380   &  0.4         &    9.40      &    9.00      &  0.5676920   &   0.0304595  &  0.07879679 \\\\\n",
       "\train & 8            & 517          &   0.02166344 &   0.2959591  &   0.00       &   0.000000   &   0.000000   &  0.0         &    6.40      &    6.40      & 19.7015038   & 415.5969287  &  0.01301627 \\\\\n",
       "\tarea & 9            & 517          &  12.84729207 &  63.6558185  &   0.52       &   3.181952   &   0.770952   &  0.0         & 1090.84      & 1090.84      & 12.7724827   & 191.5020312  &  2.79957970 \\\\\n",
       "\\end{tabular}\n"
      ],
      "text/markdown": [
       "\n",
       "| <!--/--> | vars | n | mean | sd | median | trimmed | mad | min | max | range | skew | kurtosis | se |\n",
       "|---|---|---|---|---|---|---|---|---|---|---|---|---|---|\n",
       "| FFMC | 1            | 517          |  90.64468085 |   5.5201108  |  91.60       |  91.454940   |   1.927380   | 18.7         |   96.20      |   77.50      | -6.5374989   |  66.1393621  |  0.24277420  |\n",
       "| DMC | 2            | 517          | 110.87234043 |  64.0464822  | 108.30       | 106.522410   |  51.742740   |  1.1         |  291.30      |  290.20      |  0.5443249   |   0.1789299  |  2.81676107  |\n",
       "| DC | 3            | 517          | 547.94003868 | 248.0661917  | 664.20       | 578.692289   | 118.904520   |  7.9         |  860.60      |  852.70      | -1.0940678   |  -0.2650719  | 10.90993864  |\n",
       "| ISI | 4            | 517          |   9.02166344 |   4.5594772  |   8.40       |   8.727470   |   3.113460   |  0.0         |   56.10      |   56.10      |  2.5216267   |  21.1458110  |  0.20052558  |\n",
       "| temp | 5            | 517          |  18.88916828 |   5.8066253  |  19.30       |  19.091084   |   5.337360   |  2.2         |   33.30      |   31.10      | -0.3292530   |   0.1111986  |  0.25537509  |\n",
       "| RH | 6            | 517          |  44.28820116 |  16.3174692  |  42.00       |  42.706024   |  14.826000   | 15.0         |  100.00      |   85.00      |  0.8579033   |   0.4091470  |  0.71764148  |\n",
       "| wind | 7            | 517          |   4.01760155 |   1.7916526  |   4.00       |   3.898795   |   1.927380   |  0.4         |    9.40      |    9.00      |  0.5676920   |   0.0304595  |  0.07879679  |\n",
       "| rain | 8            | 517          |   0.02166344 |   0.2959591  |   0.00       |   0.000000   |   0.000000   |  0.0         |    6.40      |    6.40      | 19.7015038   | 415.5969287  |  0.01301627  |\n",
       "| area | 9            | 517          |  12.84729207 |  63.6558185  |   0.52       |   3.181952   |   0.770952   |  0.0         | 1090.84      | 1090.84      | 12.7724827   | 191.5020312  |  2.79957970  |\n",
       "\n"
      ],
      "text/plain": [
       "     vars n   mean         sd          median trimmed    mad        min \n",
       "FFMC 1    517  90.64468085   5.5201108  91.60  91.454940   1.927380 18.7\n",
       "DMC  2    517 110.87234043  64.0464822 108.30 106.522410  51.742740  1.1\n",
       "DC   3    517 547.94003868 248.0661917 664.20 578.692289 118.904520  7.9\n",
       "ISI  4    517   9.02166344   4.5594772   8.40   8.727470   3.113460  0.0\n",
       "temp 5    517  18.88916828   5.8066253  19.30  19.091084   5.337360  2.2\n",
       "RH   6    517  44.28820116  16.3174692  42.00  42.706024  14.826000 15.0\n",
       "wind 7    517   4.01760155   1.7916526   4.00   3.898795   1.927380  0.4\n",
       "rain 8    517   0.02166344   0.2959591   0.00   0.000000   0.000000  0.0\n",
       "area 9    517  12.84729207  63.6558185   0.52   3.181952   0.770952  0.0\n",
       "     max     range   skew       kurtosis    se         \n",
       "FFMC   96.20   77.50 -6.5374989  66.1393621  0.24277420\n",
       "DMC   291.30  290.20  0.5443249   0.1789299  2.81676107\n",
       "DC    860.60  852.70 -1.0940678  -0.2650719 10.90993864\n",
       "ISI    56.10   56.10  2.5216267  21.1458110  0.20052558\n",
       "temp   33.30   31.10 -0.3292530   0.1111986  0.25537509\n",
       "RH    100.00   85.00  0.8579033   0.4091470  0.71764148\n",
       "wind    9.40    9.00  0.5676920   0.0304595  0.07879679\n",
       "rain    6.40    6.40 19.7015038 415.5969287  0.01301627\n",
       "area 1090.84 1090.84 12.7724827 191.5020312  2.79957970"
      ]
     },
     "metadata": {},
     "output_type": "display_data"
    }
   ],
   "source": [
    "describe(data[,-c(1:4, 14:16)])"
   ]
  },
  {
   "cell_type": "markdown",
   "metadata": {},
   "source": [
    "From the output above, it provides the statistics summary of each attribute. \n",
    "\n",
    "The column called trimmed, it calculates the trimmed mean of each attribute by removing a small percentage of the largest and smallest value. Since there are some extremely high values in the area column, the trimmed mean is significantly different from the normal mean, which is 3.18 and 12.85 respectively. \n",
    "\n",
    "For range column, it shows there is a huge difference between the minimum and maximum value in the area and DC attributes (the range is 1090.84 and 852.7 respectively). Therefore, outliers might exist in these two columns. \n",
    "\n",
    "In terms of skewness, normal distribution will have a skewness of 0. From the table above, none of these attributes is normal distributed. Especially for area, rain, and FFMC, the absolute magnitude of skewness is extremely large, which indicate these column is heavily skewed. \n",
    "\n",
    "In terms of kurtosis, normal distribution will have a kurtosis of 3. From the table above, none of these attributes has a value of kurtosis close to 3. FFMC, ISI, rain, and area show heavier tails than a normal distribution, and DMC, DC, temp, RH, and wind show lighter tails than a normal distribution"
   ]
  },
  {
   "cell_type": "markdown",
   "metadata": {},
   "source": [
    "## c. Visualisation \n",
    "### 1. View the variable distributions using boxplots"
   ]
  },
  {
   "cell_type": "code",
   "execution_count": 8,
   "metadata": {},
   "outputs": [
    {
     "data": {
      "image/png": "[encoded data removed]",
      "text/plain": [
       "Plot with title \"Histogram of  rain\""
      ]
     },
     "metadata": {},
     "output_type": "display_data"
    }
   ],
   "source": [
    "# Generate box plots for all variables except the categorical variables\n",
    "par(mfrow = c(3,3))\n",
    "for (i in 5:(length(data)-3)){\n",
    "   boxplot(data[,i], main = paste('Histogram of ', colnames(data[i])), type = 'l', col = 'lightblue')\n",
    "}"
   ]
  },
  {
   "cell_type": "markdown",
   "metadata": {},
   "source": [
    "These boxplots provide the visualisation of the statistics summary table above, and it shows the value distribution within each attribute. For rain and area, the values in these columns are centered at 0, with some outliers. For FFMC, the values are centered at 90, with some outliers below 80. For ISI, there is an outlier stay above 50. "
   ]
  },
  {
   "cell_type": "markdown",
   "metadata": {},
   "source": [
    "### 2. Comparing the visualisation of burned area by months and seasons"
   ]
  },
  {
   "cell_type": "code",
   "execution_count": 9,
   "metadata": {},
   "outputs": [
    {
     "data": {
      "image/png": "[encoded data removed]",
      "text/plain": [
       "plot without title"
      ]
     },
     "metadata": {},
     "output_type": "display_data"
    }
   ],
   "source": [
    "# Visualise two plots to see which variable provides better interpretability\n",
    "month = ggplot(data = data, aes(x = month, y = area)) + \n",
    "   geom_boxplot() + \n",
    "   coord_trans(y = \"sqrt\") + \n",
    "   labs(x = \"Month\", y = \"Burned Area (Hectare)\", title =\"Boxplot of Burned Area by Months\")\n",
    "\n",
    "season = ggplot(data = data, aes(x = season, y = area)) + \n",
    "   geom_boxplot() + \n",
    "   coord_trans(y = \"sqrt\") + \n",
    "   labs(x = \"Month\", y = \"Burned Area (Hectare)\", title =\"Boxplot of Burned Area by Seasons\")\n",
    "\n",
    "ggarrange(month, season, nrow = 1, ncol = 2)"
   ]
  },
  {
   "cell_type": "code",
   "execution_count": 10,
   "metadata": {},
   "outputs": [
    {
     "data": {
      "text/html": [
       "<table>\n",
       "<thead><tr><th></th><th scope=col>X</th><th scope=col>Y</th><th scope=col>month</th><th scope=col>day</th><th scope=col>FFMC</th><th scope=col>DMC</th><th scope=col>DC</th><th scope=col>ISI</th><th scope=col>temp</th><th scope=col>RH</th><th scope=col>wind</th><th scope=col>rain</th><th scope=col>area</th><th scope=col>day_type</th><th scope=col>season</th></tr></thead>\n",
       "<tbody>\n",
       "\t<tr><th scope=row>305</th><td>6         </td><td>5         </td><td>may       </td><td>sat       </td><td>85.1      </td><td>28.0      </td><td>113.8     </td><td>3.5       </td><td>11.3      </td><td>94        </td><td>4.9       </td><td>0         </td><td> 0.00     </td><td>Weekend   </td><td>Spring    </td></tr>\n",
       "\t<tr><th scope=row>472</th><td>4         </td><td>3         </td><td>may       </td><td>fri       </td><td>89.6      </td><td>25.4      </td><td> 73.7     </td><td>5.7       </td><td>18.0      </td><td>40        </td><td>4.0       </td><td>0         </td><td>38.48     </td><td>Workingday</td><td>Spring    </td></tr>\n",
       "</tbody>\n",
       "</table>\n"
      ],
      "text/latex": [
       "\\begin{tabular}{r|lllllllllllllll}\n",
       "  & X & Y & month & day & FFMC & DMC & DC & ISI & temp & RH & wind & rain & area & day\\_type & season\\\\\n",
       "\\hline\n",
       "\t305 & 6          & 5          & may        & sat        & 85.1       & 28.0       & 113.8      & 3.5        & 11.3       & 94         & 4.9        & 0          &  0.00      & Weekend    & Spring    \\\\\n",
       "\t472 & 4          & 3          & may        & fri        & 89.6       & 25.4       &  73.7      & 5.7        & 18.0       & 40         & 4.0        & 0          & 38.48      & Workingday & Spring    \\\\\n",
       "\\end{tabular}\n"
      ],
      "text/markdown": [
       "\n",
       "| <!--/--> | X | Y | month | day | FFMC | DMC | DC | ISI | temp | RH | wind | rain | area | day_type | season |\n",
       "|---|---|---|---|---|---|---|---|---|---|---|---|---|---|---|---|\n",
       "| 305 | 6          | 5          | may        | sat        | 85.1       | 28.0       | 113.8      | 3.5        | 11.3       | 94         | 4.9        | 0          |  0.00      | Weekend    | Spring     |\n",
       "| 472 | 4          | 3          | may        | fri        | 89.6       | 25.4       |  73.7      | 5.7        | 18.0       | 40         | 4.0        | 0          | 38.48      | Workingday | Spring     |\n",
       "\n"
      ],
      "text/plain": [
       "    X Y month day FFMC DMC  DC    ISI temp RH wind rain area  day_type   season\n",
       "305 6 5 may   sat 85.1 28.0 113.8 3.5 11.3 94 4.9  0     0.00 Weekend    Spring\n",
       "472 4 3 may   fri 89.6 25.4  73.7 5.7 18.0 40 4.0  0    38.48 Workingday Spring"
      ]
     },
     "metadata": {},
     "output_type": "display_data"
    }
   ],
   "source": [
    "# Extract the data in May\n",
    "data[data$month %in% 'may',]"
   ]
  },
  {
   "cell_type": "code",
   "execution_count": 11,
   "metadata": {},
   "outputs": [
    {
     "data": {
      "text/html": [
       "<table>\n",
       "<thead><tr><th></th><th scope=col>X</th><th scope=col>Y</th><th scope=col>month</th><th scope=col>day</th><th scope=col>FFMC</th><th scope=col>DMC</th><th scope=col>DC</th><th scope=col>ISI</th><th scope=col>temp</th><th scope=col>RH</th><th scope=col>wind</th><th scope=col>rain</th><th scope=col>area</th><th scope=col>day_type</th><th scope=col>season</th></tr></thead>\n",
       "<tbody>\n",
       "\t<tr><th scope=row>274</th><td>4         </td><td>6         </td><td>dec       </td><td>sun       </td><td>84.4      </td><td>27.2      </td><td>353.5     </td><td>6.8       </td><td>4.8       </td><td>57        </td><td>8.5       </td><td>0         </td><td> 8.98     </td><td>Weekend   </td><td>Winter    </td></tr>\n",
       "\t<tr><th scope=row>275</th><td>8         </td><td>6         </td><td>dec       </td><td>wed       </td><td>84.0      </td><td>27.8      </td><td>354.6     </td><td>5.3       </td><td>5.1       </td><td>61        </td><td>8.0       </td><td>0         </td><td>11.19     </td><td>Workingday</td><td>Winter    </td></tr>\n",
       "\t<tr><th scope=row>276</th><td>4         </td><td>6         </td><td>dec       </td><td>thu       </td><td>84.6      </td><td>26.4      </td><td>352.0     </td><td>2.0       </td><td>5.1       </td><td>61        </td><td>4.9       </td><td>0         </td><td> 5.38     </td><td>Workingday</td><td>Winter    </td></tr>\n",
       "\t<tr><th scope=row>277</th><td>4         </td><td>4         </td><td>dec       </td><td>mon       </td><td>85.4      </td><td>25.4      </td><td>349.7     </td><td>2.6       </td><td>4.6       </td><td>21        </td><td>8.5       </td><td>0         </td><td>17.85     </td><td>Workingday</td><td>Winter    </td></tr>\n",
       "\t<tr><th scope=row>278</th><td>3         </td><td>4         </td><td>dec       </td><td>mon       </td><td>85.4      </td><td>25.4      </td><td>349.7     </td><td>2.6       </td><td>4.6       </td><td>21        </td><td>8.5       </td><td>0         </td><td>10.73     </td><td>Workingday</td><td>Winter    </td></tr>\n",
       "\t<tr><th scope=row>279</th><td>4         </td><td>4         </td><td>dec       </td><td>mon       </td><td>85.4      </td><td>25.4      </td><td>349.7     </td><td>2.6       </td><td>4.6       </td><td>21        </td><td>8.5       </td><td>0         </td><td>22.03     </td><td>Workingday</td><td>Winter    </td></tr>\n",
       "\t<tr><th scope=row>280</th><td>4         </td><td>4         </td><td>dec       </td><td>mon       </td><td>85.4      </td><td>25.4      </td><td>349.7     </td><td>2.6       </td><td>4.6       </td><td>21        </td><td>8.5       </td><td>0         </td><td> 9.77     </td><td>Workingday</td><td>Winter    </td></tr>\n",
       "\t<tr><th scope=row>281</th><td>4         </td><td>6         </td><td>dec       </td><td>fri       </td><td>84.7      </td><td>26.7      </td><td>352.6     </td><td>4.1       </td><td>2.2       </td><td>59        </td><td>4.9       </td><td>0         </td><td> 9.27     </td><td>Workingday</td><td>Winter    </td></tr>\n",
       "\t<tr><th scope=row>282</th><td>6         </td><td>5         </td><td>dec       </td><td>tue       </td><td>85.4      </td><td>25.4      </td><td>349.7     </td><td>2.6       </td><td>5.1       </td><td>24        </td><td>8.5       </td><td>0         </td><td>24.77     </td><td>Workingday</td><td>Winter    </td></tr>\n",
       "</tbody>\n",
       "</table>\n"
      ],
      "text/latex": [
       "\\begin{tabular}{r|lllllllllllllll}\n",
       "  & X & Y & month & day & FFMC & DMC & DC & ISI & temp & RH & wind & rain & area & day\\_type & season\\\\\n",
       "\\hline\n",
       "\t274 & 4          & 6          & dec        & sun        & 84.4       & 27.2       & 353.5      & 6.8        & 4.8        & 57         & 8.5        & 0          &  8.98      & Weekend    & Winter    \\\\\n",
       "\t275 & 8          & 6          & dec        & wed        & 84.0       & 27.8       & 354.6      & 5.3        & 5.1        & 61         & 8.0        & 0          & 11.19      & Workingday & Winter    \\\\\n",
       "\t276 & 4          & 6          & dec        & thu        & 84.6       & 26.4       & 352.0      & 2.0        & 5.1        & 61         & 4.9        & 0          &  5.38      & Workingday & Winter    \\\\\n",
       "\t277 & 4          & 4          & dec        & mon        & 85.4       & 25.4       & 349.7      & 2.6        & 4.6        & 21         & 8.5        & 0          & 17.85      & Workingday & Winter    \\\\\n",
       "\t278 & 3          & 4          & dec        & mon        & 85.4       & 25.4       & 349.7      & 2.6        & 4.6        & 21         & 8.5        & 0          & 10.73      & Workingday & Winter    \\\\\n",
       "\t279 & 4          & 4          & dec        & mon        & 85.4       & 25.4       & 349.7      & 2.6        & 4.6        & 21         & 8.5        & 0          & 22.03      & Workingday & Winter    \\\\\n",
       "\t280 & 4          & 4          & dec        & mon        & 85.4       & 25.4       & 349.7      & 2.6        & 4.6        & 21         & 8.5        & 0          &  9.77      & Workingday & Winter    \\\\\n",
       "\t281 & 4          & 6          & dec        & fri        & 84.7       & 26.7       & 352.6      & 4.1        & 2.2        & 59         & 4.9        & 0          &  9.27      & Workingday & Winter    \\\\\n",
       "\t282 & 6          & 5          & dec        & tue        & 85.4       & 25.4       & 349.7      & 2.6        & 5.1        & 24         & 8.5        & 0          & 24.77      & Workingday & Winter    \\\\\n",
       "\\end{tabular}\n"
      ],
      "text/markdown": [
       "\n",
       "| <!--/--> | X | Y | month | day | FFMC | DMC | DC | ISI | temp | RH | wind | rain | area | day_type | season |\n",
       "|---|---|---|---|---|---|---|---|---|---|---|---|---|---|---|---|\n",
       "| 274 | 4          | 6          | dec        | sun        | 84.4       | 27.2       | 353.5      | 6.8        | 4.8        | 57         | 8.5        | 0          |  8.98      | Weekend    | Winter     |\n",
       "| 275 | 8          | 6          | dec        | wed        | 84.0       | 27.8       | 354.6      | 5.3        | 5.1        | 61         | 8.0        | 0          | 11.19      | Workingday | Winter     |\n",
       "| 276 | 4          | 6          | dec        | thu        | 84.6       | 26.4       | 352.0      | 2.0        | 5.1        | 61         | 4.9        | 0          |  5.38      | Workingday | Winter     |\n",
       "| 277 | 4          | 4          | dec        | mon        | 85.4       | 25.4       | 349.7      | 2.6        | 4.6        | 21         | 8.5        | 0          | 17.85      | Workingday | Winter     |\n",
       "| 278 | 3          | 4          | dec        | mon        | 85.4       | 25.4       | 349.7      | 2.6        | 4.6        | 21         | 8.5        | 0          | 10.73      | Workingday | Winter     |\n",
       "| 279 | 4          | 4          | dec        | mon        | 85.4       | 25.4       | 349.7      | 2.6        | 4.6        | 21         | 8.5        | 0          | 22.03      | Workingday | Winter     |\n",
       "| 280 | 4          | 4          | dec        | mon        | 85.4       | 25.4       | 349.7      | 2.6        | 4.6        | 21         | 8.5        | 0          |  9.77      | Workingday | Winter     |\n",
       "| 281 | 4          | 6          | dec        | fri        | 84.7       | 26.7       | 352.6      | 4.1        | 2.2        | 59         | 4.9        | 0          |  9.27      | Workingday | Winter     |\n",
       "| 282 | 6          | 5          | dec        | tue        | 85.4       | 25.4       | 349.7      | 2.6        | 5.1        | 24         | 8.5        | 0          | 24.77      | Workingday | Winter     |\n",
       "\n"
      ],
      "text/plain": [
       "    X Y month day FFMC DMC  DC    ISI temp RH wind rain area  day_type   season\n",
       "274 4 6 dec   sun 84.4 27.2 353.5 6.8 4.8  57 8.5  0     8.98 Weekend    Winter\n",
       "275 8 6 dec   wed 84.0 27.8 354.6 5.3 5.1  61 8.0  0    11.19 Workingday Winter\n",
       "276 4 6 dec   thu 84.6 26.4 352.0 2.0 5.1  61 4.9  0     5.38 Workingday Winter\n",
       "277 4 4 dec   mon 85.4 25.4 349.7 2.6 4.6  21 8.5  0    17.85 Workingday Winter\n",
       "278 3 4 dec   mon 85.4 25.4 349.7 2.6 4.6  21 8.5  0    10.73 Workingday Winter\n",
       "279 4 4 dec   mon 85.4 25.4 349.7 2.6 4.6  21 8.5  0    22.03 Workingday Winter\n",
       "280 4 4 dec   mon 85.4 25.4 349.7 2.6 4.6  21 8.5  0     9.77 Workingday Winter\n",
       "281 4 6 dec   fri 84.7 26.7 352.6 4.1 2.2  59 4.9  0     9.27 Workingday Winter\n",
       "282 6 5 dec   tue 85.4 25.4 349.7 2.6 5.1  24 8.5  0    24.77 Workingday Winter"
      ]
     },
     "metadata": {},
     "output_type": "display_data"
    }
   ],
   "source": [
    "# Extract the data in Dec\n",
    "data[data$month %in% 'dec',]"
   ]
  },
  {
   "cell_type": "markdown",
   "metadata": {},
   "source": [
    "These two graphs show:\n",
    "- In Portugal, the summer season is actually from June to the mid of September, and most bushfires occurred from July and September. \n",
    "- The median of the burned area during May is higher than all other months. It is because there are only two records, and one of these records is 38.5, which leverages the value of the median burned area during May.\n",
    "- Unlike only a few records during May, there are 9 records during December, and each record of the burned area is far higher than the trimmed mean of burned area. December in Portugal is the winter season. This unusual finding of high burned area may relate to human trips or holidays during the end of each year, or high velocity of wind which boosts the spread of fire, as the wind speed is as twice as the trimmed mean.\n",
    "- From the month plot, except the most extreme value during autumn, it shows a trend of the frequency of bushfire occurred and the area burned is increasing from Spring to Winter. The most frequent bushfire and highest area burned all happened during summer and Autumn. \n",
    "- Season has more interpretability than month does"
   ]
  },
  {
   "cell_type": "markdown",
   "metadata": {},
   "source": [
    "#### 2.1. Take a closer look at each attribute in each season"
   ]
  },
  {
   "cell_type": "code",
   "execution_count": 12,
   "metadata": {},
   "outputs": [
    {
     "data": {
      "image/png": "[encoded data removed]",
      "text/plain": [
       "Plot with title \"Boxplot of  rain\""
      ]
     },
     "metadata": {},
     "output_type": "display_data"
    }
   ],
   "source": [
    "# Boxplot of each variables by seasons to detect any seasonality effect\n",
    "par(mfrow = c(3,3))\n",
    "for (i in 5:(length(data)-3)){\n",
    "   boxplot(data[,i]~data$season, main = paste('Boxplot of ', colnames(data[i])), type = 'l', col = 'lightblue', ylab = colnames(data[i]),\n",
    "          las = 2, xlab = NA)\n",
    "}"
   ]
  },
  {
   "cell_type": "code",
   "execution_count": 13,
   "metadata": {},
   "outputs": [
    {
     "data": {
      "text/html": [
       "<table>\n",
       "<thead><tr><th scope=col>season</th><th scope=col>Count</th><th scope=col>Mean</th><th scope=col>Sum</th><th scope=col>Min</th><th scope=col>Max</th><th scope=col>Range</th></tr></thead>\n",
       "<tbody>\n",
       "\t<tr><td>Winter</td><td> 31   </td><td>0.000 </td><td> 0.0  </td><td>0     </td><td>0.0   </td><td>0.0   </td></tr>\n",
       "\t<tr><td>Spring</td><td> 65   </td><td>0.003 </td><td> 0.2  </td><td>0     </td><td>0.2   </td><td>0.2   </td></tr>\n",
       "\t<tr><td>Summer</td><td>233   </td><td>0.047 </td><td>11.0  </td><td>0     </td><td>6.4   </td><td>6.4   </td></tr>\n",
       "\t<tr><td>Autumn</td><td>188   </td><td>0.000 </td><td> 0.0  </td><td>0     </td><td>0.0   </td><td>0.0   </td></tr>\n",
       "</tbody>\n",
       "</table>\n"
      ],
      "text/latex": [
       "\\begin{tabular}{r|lllllll}\n",
       " season & Count & Mean & Sum & Min & Max & Range\\\\\n",
       "\\hline\n",
       "\t Winter &  31    & 0.000  &  0.0   & 0      & 0.0    & 0.0   \\\\\n",
       "\t Spring &  65    & 0.003  &  0.2   & 0      & 0.2    & 0.2   \\\\\n",
       "\t Summer & 233    & 0.047  & 11.0   & 0      & 6.4    & 6.4   \\\\\n",
       "\t Autumn & 188    & 0.000  &  0.0   & 0      & 0.0    & 0.0   \\\\\n",
       "\\end{tabular}\n"
      ],
      "text/markdown": [
       "\n",
       "| season | Count | Mean | Sum | Min | Max | Range |\n",
       "|---|---|---|---|---|---|---|\n",
       "| Winter |  31    | 0.000  |  0.0   | 0      | 0.0    | 0.0    |\n",
       "| Spring |  65    | 0.003  |  0.2   | 0      | 0.2    | 0.2    |\n",
       "| Summer | 233    | 0.047  | 11.0   | 0      | 6.4    | 6.4    |\n",
       "| Autumn | 188    | 0.000  |  0.0   | 0      | 0.0    | 0.0    |\n",
       "\n"
      ],
      "text/plain": [
       "  season Count Mean  Sum  Min Max Range\n",
       "1 Winter  31   0.000  0.0 0   0.0 0.0  \n",
       "2 Spring  65   0.003  0.2 0   0.2 0.2  \n",
       "3 Summer 233   0.047 11.0 0   6.4 6.4  \n",
       "4 Autumn 188   0.000  0.0 0   0.0 0.0  "
      ]
     },
     "metadata": {},
     "output_type": "display_data"
    }
   ],
   "source": [
    "# Group the rain by season\n",
    "group_rain_byseason =  ddply(data, c('season'), dplyr::summarise,\n",
    "                               Count = n(),\n",
    "                               Mean = round(mean(rain),3),\n",
    "                               Sum = sum(rain),\n",
    "                               Min = min(rain),\n",
    "                               Max = max(rain),\n",
    "                               Range = Max - Min)\n",
    "group_rain_byseason"
   ]
  },
  {
   "cell_type": "code",
   "execution_count": 14,
   "metadata": {},
   "outputs": [
    {
     "data": {
      "text/html": [
       "<table>\n",
       "<thead><tr><th scope=col>season</th><th scope=col>Count</th><th scope=col>Mean</th><th scope=col>Sum</th><th scope=col>Min</th><th scope=col>Max</th><th scope=col>Range</th></tr></thead>\n",
       "<tbody>\n",
       "\t<tr><td>Winter </td><td> 31    </td><td> 7.918 </td><td> 245.47</td><td>0      </td><td>  51.78</td><td>  51.78</td></tr>\n",
       "\t<tr><td>Spring </td><td> 65    </td><td> 5.442 </td><td> 353.76</td><td>0      </td><td>  61.13</td><td>  61.13</td></tr>\n",
       "\t<tr><td>Summer </td><td>233    </td><td>12.262 </td><td>2857.12</td><td>0      </td><td> 746.28</td><td> 746.28</td></tr>\n",
       "\t<tr><td>Autumn </td><td>188    </td><td>16.945 </td><td>3185.70</td><td>0      </td><td>1090.84</td><td>1090.84</td></tr>\n",
       "</tbody>\n",
       "</table>\n"
      ],
      "text/latex": [
       "\\begin{tabular}{r|lllllll}\n",
       " season & Count & Mean & Sum & Min & Max & Range\\\\\n",
       "\\hline\n",
       "\t Winter  &  31     &  7.918  &  245.47 & 0       &   51.78 &   51.78\\\\\n",
       "\t Spring  &  65     &  5.442  &  353.76 & 0       &   61.13 &   61.13\\\\\n",
       "\t Summer  & 233     & 12.262  & 2857.12 & 0       &  746.28 &  746.28\\\\\n",
       "\t Autumn  & 188     & 16.945  & 3185.70 & 0       & 1090.84 & 1090.84\\\\\n",
       "\\end{tabular}\n"
      ],
      "text/markdown": [
       "\n",
       "| season | Count | Mean | Sum | Min | Max | Range |\n",
       "|---|---|---|---|---|---|---|\n",
       "| Winter  |  31     |  7.918  |  245.47 | 0       |   51.78 |   51.78 |\n",
       "| Spring  |  65     |  5.442  |  353.76 | 0       |   61.13 |   61.13 |\n",
       "| Summer  | 233     | 12.262  | 2857.12 | 0       |  746.28 |  746.28 |\n",
       "| Autumn  | 188     | 16.945  | 3185.70 | 0       | 1090.84 | 1090.84 |\n",
       "\n"
      ],
      "text/plain": [
       "  season Count Mean   Sum     Min Max     Range  \n",
       "1 Winter  31    7.918  245.47 0     51.78   51.78\n",
       "2 Spring  65    5.442  353.76 0     61.13   61.13\n",
       "3 Summer 233   12.262 2857.12 0    746.28  746.28\n",
       "4 Autumn 188   16.945 3185.70 0   1090.84 1090.84"
      ]
     },
     "metadata": {},
     "output_type": "display_data"
    }
   ],
   "source": [
    "# Group the area by season\n",
    "group_area_byseason =  ddply(data, c('season'), dplyr::summarise,\n",
    "                               Count = n(),\n",
    "                               Mean = round(mean(area),3),\n",
    "                               Sum = sum(area),\n",
    "                               Min = min(area),\n",
    "                               Max = max(area),\n",
    "                               Range = Max - Min)\n",
    "group_area_byseason"
   ]
  },
  {
   "cell_type": "markdown",
   "metadata": {},
   "source": [
    "As expected, the temperatures and indexes including FFMC, DMC, DC, ISI are the highest during summer and autumn, which accelerate the probability of bushfire occurred and spread of fire. Therefore, there is higher frequency of having bushfire during Summer and Autumn\n",
    "Interestingly, the highest level of rainfall is during summer while having the highest frequency of recorded bushfire. Besides, the highest mean of area burned is during Autumn instead of during Summer.\n",
    "\n",
    "As showed in the boxplot of each attribute by season, the outlier effect is heavier during Summer and Autumn, and range of area within these two sesons are 746 and 1090 respectively."
   ]
  },
  {
   "cell_type": "markdown",
   "metadata": {},
   "source": [
    "### 3. Comparing the visualisation of day and day type"
   ]
  },
  {
   "cell_type": "code",
   "execution_count": 15,
   "metadata": {},
   "outputs": [
    {
     "data": {
      "image/png": "[encoded data removed]",
      "text/plain": [
       "plot without title"
      ]
     },
     "metadata": {},
     "output_type": "display_data"
    }
   ],
   "source": [
    "# Visualise two plots to see which variable provides better interpretability\n",
    "day = ggplot(data = data, aes(x = day, y = area)) + \n",
    "   geom_boxplot() + \n",
    "   coord_trans(y = \"sqrt\") + \n",
    "   labs(x = \"Day\", y = \"Burned Area (Hectare)\", title =\"Boxplot of Burned Area by Day\")\n",
    "\n",
    "day_type = ggplot(data = data, aes(x = day_type, y = area)) + \n",
    "   geom_boxplot() + \n",
    "   coord_trans(y = \"sqrt\") + \n",
    "   labs(x = \"Day Type\", y = \"Burned Area (Hectare)\", title =\"Boxplot of Burned Area by DayType\")\n",
    "\n",
    "ggarrange(day, day_type, nrow =1 , ncol =2)"
   ]
  },
  {
   "cell_type": "markdown",
   "metadata": {},
   "source": [
    "The median in the day left plot is similar across each day. Combining with the day type plot, the burned area does not significnat relates to any particular day or day type. "
   ]
  },
  {
   "cell_type": "markdown",
   "metadata": {},
   "source": [
    "### 4. Detailed matrix plot"
   ]
  },
  {
   "cell_type": "code",
   "execution_count": 16,
   "metadata": {},
   "outputs": [
    {
     "data": {
      "image/png": "[encoded data removed]",
      "text/plain": [
       "plot without title"
      ]
     },
     "metadata": {},
     "output_type": "display_data"
    }
   ],
   "source": [
    "# Plot the variables using scatterplot matrix to visualise the correlation between variables and histogram\n",
    "ggpairs(data[,-c(1:4, 14:16)])"
   ]
  },
  {
   "cell_type": "markdown",
   "metadata": {},
   "source": [
    "This matrix plot show:\n",
    "\n",
    "FFMC:\n",
    "- FFMC is moderate positive correlated to DMC, DC, ISI, and temp, and moderate negative correlated to RH\n",
    "- 40% of the variation in FFMC can be explained by DMC, DC, ISI, temperature, and RH\n",
    "- FFMC is left-skewed\n",
    "- The relationship between ISI and FFMC shows an exponential relationship. 60% of the variation in log ISI can be explained by FFMC\n",
    "\n",
    "DMC:\n",
    "- DMC is strong positive correlated to DC, and moderate positive correlated to ISI and temperature\n",
    "- 50% of the variation in DMC can be explained by DC, ISI, and temperature\n",
    "- DMC is multimodal distributed and right-skewed.\n",
    "\n",
    "DC:\n",
    "- DC is weak positive correlated to ISI; moderate positive correlated to temperature; and weak negative correlated to wind speed\n",
    "- 51% of the variation in DC can be explained by FFMC, DMC, ISI, temperature, and wind \n",
    "- DC is multimodal distributed and left-skewed\n",
    "\n",
    "ISI;\n",
    "- ISI is moderate positive correlated to temperature, and week positive correlated to wind speed\n",
    "- 32% of the variation in ISI can be explained by FFMC, DMC, DC, and temperature\n",
    "- ISI is right-skewed\n",
    "\n",
    "temp:\n",
    "- temperature is moderate negative correlated to RH and wind speed\n",
    "- 61% of the variation in temperature can be explained by FFMC, DMC, DC, ISI, RH, and wind\n",
    "- approximate normal distributed, slightly left-skewed\n",
    "\n",
    "RH:\n",
    "- 30% of the variation in RH can be explained by FFMC, ISI, and temperature\n",
    "- RH is right-skewed\n",
    "\n",
    "wind:\n",
    "- weak positive correlated to each attribute\n",
    "- the wind is right-skewed\n",
    "\n",
    "rain:\n",
    "- rain is right-skewed"
   ]
  },
  {
   "cell_type": "markdown",
   "metadata": {},
   "source": [
    "### 5. Histograms of area"
   ]
  },
  {
   "cell_type": "code",
   "execution_count": 17,
   "metadata": {},
   "outputs": [
    {
     "data": {
      "image/png": "[encoded data removed]",
      "text/plain": [
       "Plot with title \"Histogram of log adjusted area\""
      ]
     },
     "metadata": {},
     "output_type": "display_data"
    }
   ],
   "source": [
    "# Plot the histogram of area with different transformation\n",
    "par(mfrow = c(1,3))\n",
    "hist(data$area, main = 'Histogram of area', xlab = 'area', prob = T)\n",
    "hist(log(data$area), main = 'Histogram of log area', xlab = 'area', prob = T)\n",
    "lines(density(log(data$area), adjust = 2), col = 'red')\n",
    "hist(log(data$area + 1), main = 'Histogram of log adjusted area', xlab ='area')"
   ]
  },
  {
   "cell_type": "markdown",
   "metadata": {},
   "source": [
    "The left plot presents the histogram of the original value of the area, and it is right-skewed. \n",
    "\n",
    "The mid plot presents the histogram of the log-transformed area, and it is normal distributed. However, it is impossible to have a negative value in measuring the burned area\n",
    "\n",
    "The right plot presents the histogram of the log(area+1) adjusted area, and it is right-skewed. \n",
    "\n",
    "The log(area+1) is the appropriate transformation comparing to log, and log(area +1) will be used to train and predict during modeling section"
   ]
  },
  {
   "cell_type": "markdown",
   "metadata": {},
   "source": [
    "#### 6. Total area burned and frequency at each site"
   ]
  },
  {
   "cell_type": "code",
   "execution_count": 18,
   "metadata": {},
   "outputs": [
    {
     "data": {
      "text/html": [
       "<table>\n",
       "<thead><tr><th scope=col>X</th><th scope=col>Y</th><th scope=col>Count</th><th scope=col>Mean</th><th scope=col>Sum</th><th scope=col>Min</th><th scope=col>Max</th><th scope=col>Range</th></tr></thead>\n",
       "<tbody>\n",
       "\t<tr><td>1     </td><td>2     </td><td>19    </td><td>11.576</td><td>219.94</td><td>0.00  </td><td>212.88</td><td>212.88</td></tr>\n",
       "\t<tr><td>1     </td><td>3     </td><td>10    </td><td>15.714</td><td>157.14</td><td>0.00  </td><td> 70.76</td><td> 70.76</td></tr>\n",
       "\t<tr><td>1     </td><td>4     </td><td>15    </td><td>10.019</td><td>150.28</td><td>0.00  </td><td> 82.75</td><td> 82.75</td></tr>\n",
       "\t<tr><td>1     </td><td>5     </td><td> 4    </td><td>28.867</td><td>115.47</td><td>1.46  </td><td> 95.18</td><td> 93.72</td></tr>\n",
       "\t<tr><td>2     </td><td>2     </td><td>25    </td><td>18.506</td><td>462.65</td><td>0.00  </td><td>200.94</td><td>200.94</td></tr>\n",
       "\t<tr><td>2     </td><td>3     </td><td> 1    </td><td> 0.000</td><td>  0.00</td><td>0.00  </td><td>  0.00</td><td>  0.00</td></tr>\n",
       "</tbody>\n",
       "</table>\n"
      ],
      "text/latex": [
       "\\begin{tabular}{r|llllllll}\n",
       " X & Y & Count & Mean & Sum & Min & Max & Range\\\\\n",
       "\\hline\n",
       "\t 1      & 2      & 19     & 11.576 & 219.94 & 0.00   & 212.88 & 212.88\\\\\n",
       "\t 1      & 3      & 10     & 15.714 & 157.14 & 0.00   &  70.76 &  70.76\\\\\n",
       "\t 1      & 4      & 15     & 10.019 & 150.28 & 0.00   &  82.75 &  82.75\\\\\n",
       "\t 1      & 5      &  4     & 28.867 & 115.47 & 1.46   &  95.18 &  93.72\\\\\n",
       "\t 2      & 2      & 25     & 18.506 & 462.65 & 0.00   & 200.94 & 200.94\\\\\n",
       "\t 2      & 3      &  1     &  0.000 &   0.00 & 0.00   &   0.00 &   0.00\\\\\n",
       "\\end{tabular}\n"
      ],
      "text/markdown": [
       "\n",
       "| X | Y | Count | Mean | Sum | Min | Max | Range |\n",
       "|---|---|---|---|---|---|---|---|\n",
       "| 1      | 2      | 19     | 11.576 | 219.94 | 0.00   | 212.88 | 212.88 |\n",
       "| 1      | 3      | 10     | 15.714 | 157.14 | 0.00   |  70.76 |  70.76 |\n",
       "| 1      | 4      | 15     | 10.019 | 150.28 | 0.00   |  82.75 |  82.75 |\n",
       "| 1      | 5      |  4     | 28.867 | 115.47 | 1.46   |  95.18 |  93.72 |\n",
       "| 2      | 2      | 25     | 18.506 | 462.65 | 0.00   | 200.94 | 200.94 |\n",
       "| 2      | 3      |  1     |  0.000 |   0.00 | 0.00   |   0.00 |   0.00 |\n",
       "\n"
      ],
      "text/plain": [
       "  X Y Count Mean   Sum    Min  Max    Range \n",
       "1 1 2 19    11.576 219.94 0.00 212.88 212.88\n",
       "2 1 3 10    15.714 157.14 0.00  70.76  70.76\n",
       "3 1 4 15    10.019 150.28 0.00  82.75  82.75\n",
       "4 1 5  4    28.867 115.47 1.46  95.18  93.72\n",
       "5 2 2 25    18.506 462.65 0.00 200.94 200.94\n",
       "6 2 3  1     0.000   0.00 0.00   0.00   0.00"
      ]
     },
     "metadata": {},
     "output_type": "display_data"
    }
   ],
   "source": [
    "# Group the area by each site\n",
    "groupbycoordinate = ddply(data, c('X','Y'), dplyr::summarise,\n",
    "                       Count = n(),\n",
    "                       Mean = round(mean(area),3),\n",
    "                       Sum = sum(area),\n",
    "                       Min = min(area),\n",
    "                       Max = max(area),\n",
    "                       Range = Max - Min)\n",
    "head(groupbycoordinate)"
   ]
  },
  {
   "cell_type": "code",
   "execution_count": 19,
   "metadata": {},
   "outputs": [
    {
     "data": {
      "image/png": "[encoded data removed]",
      "text/plain": [
       "plot without title"
      ]
     },
     "metadata": {},
     "output_type": "display_data"
    }
   ],
   "source": [
    "# Visualise the bushfire data for each coordinate\n",
    "Area = ggplot(groupbycoordinate, aes(x = X, y = Sum, fill = Y)) + \n",
    "   geom_bar(stat = 'identity') +\n",
    "   geom_text(aes(label = Y), position = position_stack(vjust = 0.5)) + \n",
    "   labs(y = 'Total Area Burned (Hectare)') +\n",
    "   ggtitle('Total Area Burned for Each \\n Pair of Coordinate')\n",
    "\n",
    "Frequency = ggplot(groupbycoordinate, aes(x = X, y = Count, fill = Y)) + \n",
    "   geom_bar(stat = 'identity') +\n",
    "   geom_text(aes(label = Y), position = position_stack(vjust = 0.5)) + \n",
    "   labs(y = 'Frequency') +\n",
    "   ggtitle('Frequency of Fire for Each Pair \\n of Coordinate')\n",
    "\n",
    "ggarrange(Area, Frequency, nrow = 1, ncol =2, legend = 'none')"
   ]
  },
  {
   "cell_type": "markdown",
   "metadata": {},
   "source": [
    "Combining these two plots, when Y coordinates at 4, 5, and 6, regardless of the coordinate of X, there is a high frequency of bushfire occurred and high value of the burned area. \n",
    "\n",
    "When X coordinates at 3, 5, and 9, both frequency and area burned of bushfire is the lowest comparing to other coordinates. Especially for the X coordinate 3, the frequency of bushfire is indifference from the X coordinate 7, whereas the total area burned is significantly lower than there. \n",
    "\n",
    "When X coordinates at 2 and 4, the frequency counts the most compared to other coordinates of X. However, the area burned is not the highest. "
   ]
  },
  {
   "cell_type": "markdown",
   "metadata": {},
   "source": [
    "#### 7. Total area burned and frequency of each season"
   ]
  },
  {
   "cell_type": "code",
   "execution_count": 20,
   "metadata": {},
   "outputs": [
    {
     "data": {
      "text/html": [
       "<table>\n",
       "<thead><tr><th scope=col>season</th><th scope=col>day_type</th><th scope=col>Count</th><th scope=col>Mean</th><th scope=col>Sum</th><th scope=col>Min</th><th scope=col>Max</th><th scope=col>Range</th></tr></thead>\n",
       "<tbody>\n",
       "\t<tr><td>Winter    </td><td>Weekend   </td><td> 11       </td><td> 7.912    </td><td>  87.03   </td><td>0         </td><td> 51.78    </td><td> 51.78    </td></tr>\n",
       "\t<tr><td>Winter    </td><td>Workingday</td><td> 20       </td><td> 7.922    </td><td> 158.44   </td><td>0         </td><td> 24.77    </td><td> 24.77    </td></tr>\n",
       "\t<tr><td>Spring    </td><td>Weekend   </td><td> 22       </td><td> 7.696    </td><td> 169.31   </td><td>0         </td><td> 61.13    </td><td> 61.13    </td></tr>\n",
       "\t<tr><td>Spring    </td><td>Workingday</td><td> 43       </td><td> 4.290    </td><td> 184.45   </td><td>0         </td><td> 38.48    </td><td> 38.48    </td></tr>\n",
       "\t<tr><td>Summer    </td><td>Weekend   </td><td> 88       </td><td>10.237    </td><td> 900.82   </td><td>0         </td><td>196.48    </td><td>196.48    </td></tr>\n",
       "\t<tr><td>Summer    </td><td>Workingday</td><td>145       </td><td>13.492    </td><td>1956.30   </td><td>0         </td><td>746.28    </td><td>746.28    </td></tr>\n",
       "</tbody>\n",
       "</table>\n"
      ],
      "text/latex": [
       "\\begin{tabular}{r|llllllll}\n",
       " season & day\\_type & Count & Mean & Sum & Min & Max & Range\\\\\n",
       "\\hline\n",
       "\t Winter     & Weekend    &  11        &  7.912     &   87.03    & 0          &  51.78     &  51.78    \\\\\n",
       "\t Winter     & Workingday &  20        &  7.922     &  158.44    & 0          &  24.77     &  24.77    \\\\\n",
       "\t Spring     & Weekend    &  22        &  7.696     &  169.31    & 0          &  61.13     &  61.13    \\\\\n",
       "\t Spring     & Workingday &  43        &  4.290     &  184.45    & 0          &  38.48     &  38.48    \\\\\n",
       "\t Summer     & Weekend    &  88        & 10.237     &  900.82    & 0          & 196.48     & 196.48    \\\\\n",
       "\t Summer     & Workingday & 145        & 13.492     & 1956.30    & 0          & 746.28     & 746.28    \\\\\n",
       "\\end{tabular}\n"
      ],
      "text/markdown": [
       "\n",
       "| season | day_type | Count | Mean | Sum | Min | Max | Range |\n",
       "|---|---|---|---|---|---|---|---|\n",
       "| Winter     | Weekend    |  11        |  7.912     |   87.03    | 0          |  51.78     |  51.78     |\n",
       "| Winter     | Workingday |  20        |  7.922     |  158.44    | 0          |  24.77     |  24.77     |\n",
       "| Spring     | Weekend    |  22        |  7.696     |  169.31    | 0          |  61.13     |  61.13     |\n",
       "| Spring     | Workingday |  43        |  4.290     |  184.45    | 0          |  38.48     |  38.48     |\n",
       "| Summer     | Weekend    |  88        | 10.237     |  900.82    | 0          | 196.48     | 196.48     |\n",
       "| Summer     | Workingday | 145        | 13.492     | 1956.30    | 0          | 746.28     | 746.28     |\n",
       "\n"
      ],
      "text/plain": [
       "  season day_type   Count Mean   Sum     Min Max    Range \n",
       "1 Winter Weekend     11    7.912   87.03 0    51.78  51.78\n",
       "2 Winter Workingday  20    7.922  158.44 0    24.77  24.77\n",
       "3 Spring Weekend     22    7.696  169.31 0    61.13  61.13\n",
       "4 Spring Workingday  43    4.290  184.45 0    38.48  38.48\n",
       "5 Summer Weekend     88   10.237  900.82 0   196.48 196.48\n",
       "6 Summer Workingday 145   13.492 1956.30 0   746.28 746.28"
      ]
     },
     "metadata": {},
     "output_type": "display_data"
    }
   ],
   "source": [
    "# Group the area by season and day type\n",
    "groupbyseason_daytype =  ddply(data, c('season', 'day_type'), dplyr::summarise,\n",
    "                               Count = n(),\n",
    "                               Mean = round(mean(area),3),\n",
    "                               Sum = sum(area),\n",
    "                               Min = min(area),\n",
    "                               Max = max(area),\n",
    "                               Range = Max - Min)\n",
    "head(groupbyseason_daytype)"
   ]
  },
  {
   "cell_type": "code",
   "execution_count": 21,
   "metadata": {},
   "outputs": [
    {
     "data": {
      "image/png": "[encoded data removed]",
      "text/plain": [
       "plot without title"
      ]
     },
     "metadata": {},
     "output_type": "display_data"
    }
   ],
   "source": [
    "# Visualise how the bushfire relates to seasons and day types\n",
    "Area_by_month = ggplot(groupbyseason_daytype, aes(x = season, y = Sum, fill = day_type)) + \n",
    "   geom_bar(stat = 'identity') +\n",
    "   geom_text(aes(label = day_type), position = 'stack') + \n",
    "   labs(y = 'Total Area Burned (Hectare)') +\n",
    "   ggtitle('Total Area Burned for Different Seasons') + theme(plot.title = element_text(size = 11))\n",
    "\n",
    "Frequency_by_month = ggplot(groupbyseason_daytype, aes(x = season, y = Count, fill = day_type)) + \n",
    "   geom_bar(stat = 'identity') +\n",
    "   geom_text(aes(label = day_type), position = 'stack') + \n",
    "   labs(y = 'Frequency') +\n",
    "   ggtitle('Frequency of Fire in Different Seasons') + theme(plot.title = element_text(size = 11))\n",
    "\n",
    "ggarrange(Area_by_month, Frequency_by_month, nrow = 1, ncol = 2, legend = 'none')"
   ]
  },
  {
   "cell_type": "markdown",
   "metadata": {},
   "source": [
    "As expected, the most bushfire and highest area burned are all happened during the summer and autumn, and more fires happened and area burned during working day than the weekend, as there are 5 days in weekday"
   ]
  },
  {
   "cell_type": "markdown",
   "metadata": {},
   "source": [
    "### 8. Summary of EDA"
   ]
  },
  {
   "cell_type": "markdown",
   "metadata": {},
   "source": [
    "The findings from the EDA section are:\n",
    "- There is a significant outlier effect in the area column, as the difference between the mean and trimmed mean is huge\n",
    "- Groups the month into season gives more interpretability\n",
    "- The area burned and frequency of bushfire during Summer and Autumn is the highest\n",
    "- Many features show seasonality. e.g. Higher temperature, DC, and ISI index during Summer. \n",
    "- There are correlations among features, and the relationship between ISI and FFMC is non-linear.\n",
    "- Most of the features are not normal distributed\n",
    "- The area should be transformed into the log(area+1)\n",
    "- Day type does not significantly influence the area burned"
   ]
  },
  {
   "cell_type": "markdown",
   "metadata": {},
   "source": [
    "# 3. Model Development<a class=\"anchor\" id=\"sec_3\"></a>"
   ]
  },
  {
   "cell_type": "markdown",
   "metadata": {},
   "source": [
    "Based on the original dataset, this report transformed the day into day type, months into seasons. Thus, it is important to exclude either original features or transformed features, which prevents involving redundant variables. \n",
    "\n",
    "The findings from EDA suggests:\n",
    "1. The season has higher interpretability than a month\n",
    "2. Day type does not influence the frequency and area of bushfire\n",
    "3. Transformed log(area+1) is better than the area in modeling\n",
    "\n",
    "Therefore, it is essential to conduct some simple linear models to examine which variables should be excluded from the modeling."
   ]
  },
  {
   "cell_type": "markdown",
   "metadata": {},
   "source": [
    "After building several simple linear models, \n",
    "- exclude day and include day type: \n",
    "    - R Squares of including only day and day type are all close to 0.but day type has higher R square than day\n",
    "    - p-values are 0.28 and 0.06, the regression of including day type only is more significant than the that includes day only;\n",
    " \n",
    "- exclude month and include season:\n",
    "    - R squares of including only month and season are all close to 0, but the season has higher R square than the month\n",
    "    - p-values are 0.9521 and 0.3903 respectively. Therefore the regression contains season only is more significant than that contain month only    "
   ]
  },
  {
   "cell_type": "markdown",
   "metadata": {},
   "source": [
    "Besides, two regressions using the same explanatory variables, the one with log(area+1) as a dependent variable has higher R-Square and lower p-value than using area. Therefore, this report uses log(area+1) as the dependent variable for all models. "
   ]
  },
  {
   "cell_type": "markdown",
   "metadata": {},
   "source": [
    "In this section, several models will be developed including both parametric and non-parametric models. However, after building a GAM model (not shown here), the effective degrees of freedom suggests the best complexity of the smooth for each feature is 1, which is linear. Therefore, this section will build several linear models, and select one of them to do the prediction. "
   ]
  },
  {
   "cell_type": "code",
   "execution_count": 22,
   "metadata": {},
   "outputs": [],
   "source": [
    "# Separate into training set and test set\n",
    "set.seed(123456)\n",
    "train_sample = sample(1:nrow(data), 0.8*nrow(data))\n",
    "train_data = data[train_sample, ] %>%\n",
    "    select(-c('day', 'month'))\n",
    "\n",
    "test_data = data[-train_sample, ] %>%\n",
    "   select(-c('day', 'month'))"
   ]
  },
  {
   "cell_type": "markdown",
   "metadata": {},
   "source": [
    "## Linear models\n",
    "### First model"
   ]
  },
  {
   "cell_type": "code",
   "execution_count": 23,
   "metadata": {},
   "outputs": [],
   "source": [
    "# The first model using all attributes in the training dataset\n",
    "modelfull = lm(log(area+1)~., data = train_data)"
   ]
  },
  {
   "cell_type": "code",
   "execution_count": 24,
   "metadata": {},
   "outputs": [
    {
     "name": "stderr",
     "output_type": "stream",
     "text": [
      "Warning message:\n",
      "\"not plotting observations with leverage one:\n",
      "  274\"Warning message:\n",
      "\"not plotting observations with leverage one:\n",
      "  274\""
     ]
    },
    {
     "data": {
      "image/png": "[encoded data removed]",
      "text/plain": [
       "Plot with title \"Series  modelfull$resid\""
      ]
     },
     "metadata": {},
     "output_type": "display_data"
    }
   ],
   "source": [
    "# Check the residuals plots\n",
    "par(mfrow = c(2, 3))\n",
    "plot(modelfull)\n",
    "acf(modelfull$resid)"
   ]
  },
  {
   "cell_type": "markdown",
   "metadata": {},
   "source": [
    "From the residual check, the first graph named 'Residuals VS Fitted' is used to check for non-randomness. It is expected to see the residuals are equally spread around the horizontal line without distinct patterns. The graph indicates the red line is not horizontal at 0. Therefore, the residuals violate the assumption of non-randomness. \n",
    "\n",
    "The second graph named 'Normal Q-Q' is used to test the normality assumption. The graph shows the normal probability plot of residual is not following the red line as the tail of the qqplot is skewed away from the dashed line. \n",
    "\n",
    "The third graph named 'Scale-Location' is used to check the homogeneity of variance of the residuals. The plot shows the red line is not a horizontal line, which indicates the residuals violate the assumption of homoscedasticity. \n",
    "\n",
    "The fourth graph named 'Residuals VS Leverage' is used to check whether there is an influence point. From the graph, there is a point go beyond the cook's distance. Therefore, the residuals have an influential point effect. \n",
    "\n",
    "The last graph named 'Series residuals' is used to test the auto-correlation within the residuals. Based on the 5% significant level, it is expected to see a lag exceeds a 5% significance level for every 20 lags. Therefore, the graph shows the errors does not dependent on the last lag."
   ]
  },
  {
   "cell_type": "markdown",
   "metadata": {},
   "source": [
    "This full model violates all the assumptions of linear model, the next model is using best subset selection to remove some unimportant features"
   ]
  },
  {
   "cell_type": "markdown",
   "metadata": {},
   "source": [
    "### Second model using best subset selection"
   ]
  },
  {
   "cell_type": "code",
   "execution_count": 25,
   "metadata": {},
   "outputs": [],
   "source": [
    "# Perform best sub selection from all features\n",
    "modelsets = regsubsets(log(area+1)~.,, data = train_data)\n",
    "models_summary = summary(modelsets)"
   ]
  },
  {
   "cell_type": "code",
   "execution_count": 26,
   "metadata": {},
   "outputs": [
    {
     "data": {
      "image/png": "[encoded data removed]",
      "text/plain": [
       "Plot with title \"BIC by Numbers of Variables\""
      ]
     },
     "metadata": {},
     "output_type": "display_data"
    }
   ],
   "source": [
    "par(mfrow = c(2,2))\n",
    "# Find the best subset model using SSE, Adj R Square, Mallow's CP, and BIC\n",
    "plot(models_summary$rss, type = 'l', xlab = 'Numbers of Variables', ylab = 'Sum Square of Residual',\n",
    "     main = 'SSE by Numbers of Variables')\n",
    "points(which.min(models_summary$rss), models_summary$rss[which.min(models_summary$rss)], col = 'red', pch = 20, cex =3)\n",
    "\n",
    "plot(models_summary$adjr2, type = 'l', xlab = 'Numbers of Variables', ylab = 'Adjusted RSquare',\n",
    "     main = 'Adj R Square by Numbers of Variables')\n",
    "points(which.max(models_summary$adjr2), models_summary$adjr2[which.max(models_summary$adjr2)], col = 'red', pch = 20, cex =3)\n",
    "\n",
    "plot(models_summary$cp, type = 'l', xlab = 'Numbers of Variables', ylab = 'Cp', \n",
    "     main = 'Mallows CP by Numbers of Variables')\n",
    "points(which.min(models_summary$cp), models_summary$cp[which.min(models_summary$cp)], col = 'red', pch = 20, cex =3)\n",
    "\n",
    "plot(models_summary$bic, type = 'l', xlab = 'Numbers of Variables', ylab = 'BIC',\n",
    "     main = 'BIC by Numbers of Variables')\n",
    "points(which.min(models_summary$bic), models_summary$bic[which.min(models_summary$bic)], col = 'red', pch = 20, cex =3)"
   ]
  },
  {
   "cell_type": "markdown",
   "metadata": {},
   "source": [
    "The above plots indicate the regression including 8 explanatory variables is the optimal regression. The coefficient of each selected variable is shown below "
   ]
  },
  {
   "cell_type": "code",
   "execution_count": 27,
   "metadata": {},
   "outputs": [
    {
     "data": {
      "text/html": [
       "<dl class=dl-horizontal>\n",
       "\t<dt>(Intercept)</dt>\n",
       "\t\t<dd>1.08112219371278</dd>\n",
       "\t<dt>X3</dt>\n",
       "\t\t<dd>-0.641301083849047</dd>\n",
       "\t<dt>X5</dt>\n",
       "\t\t<dd>-0.591014680948106</dd>\n",
       "\t<dt>X9</dt>\n",
       "\t\t<dd>1.54931412728975</dd>\n",
       "\t<dt>Y8</dt>\n",
       "\t\t<dd>4.13323931940769</dd>\n",
       "\t<dt>Y9</dt>\n",
       "\t\t<dd>-1.89688808846676</dd>\n",
       "\t<dt>wind</dt>\n",
       "\t\t<dd>0.110465695500834</dd>\n",
       "\t<dt>seasonSpring</dt>\n",
       "\t\t<dd>-0.564588811089838</dd>\n",
       "\t<dt>seasonSummer</dt>\n",
       "\t\t<dd>-0.481632772771599</dd>\n",
       "</dl>\n"
      ],
      "text/latex": [
       "\\begin{description*}\n",
       "\\item[(Intercept)] 1.08112219371278\n",
       "\\item[X3] -0.641301083849047\n",
       "\\item[X5] -0.591014680948106\n",
       "\\item[X9] 1.54931412728975\n",
       "\\item[Y8] 4.13323931940769\n",
       "\\item[Y9] -1.89688808846676\n",
       "\\item[wind] 0.110465695500834\n",
       "\\item[seasonSpring] -0.564588811089838\n",
       "\\item[seasonSummer] -0.481632772771599\n",
       "\\end{description*}\n"
      ],
      "text/markdown": [
       "(Intercept)\n",
       ":   1.08112219371278X3\n",
       ":   -0.641301083849047X5\n",
       ":   -0.591014680948106X9\n",
       ":   1.54931412728975Y8\n",
       ":   4.13323931940769Y9\n",
       ":   -1.89688808846676wind\n",
       ":   0.110465695500834seasonSpring\n",
       ":   -0.564588811089838seasonSummer\n",
       ":   -0.481632772771599\n",
       "\n"
      ],
      "text/plain": [
       " (Intercept)           X3           X5           X9           Y8           Y9 \n",
       "   1.0811222   -0.6413011   -0.5910147    1.5493141    4.1332393   -1.8968881 \n",
       "        wind seasonSpring seasonSummer \n",
       "   0.1104657   -0.5645888   -0.4816328 "
      ]
     },
     "metadata": {},
     "output_type": "display_data"
    }
   ],
   "source": [
    "coef(modelsets, 8)"
   ]
  },
  {
   "cell_type": "markdown",
   "metadata": {},
   "source": [
    "Since the first five variables are the dummy variables in X and Y coordinates, and spring, summer is the dummy variables in season, the selected explanatory variables are X, Y coordinates, wind and season these 4 variables."
   ]
  },
  {
   "cell_type": "code",
   "execution_count": 28,
   "metadata": {},
   "outputs": [],
   "source": [
    "# The seocnd model is from the best overall selection \n",
    "model2 = lm(log(area+1)~X + Y + wind + season, data = train_data)"
   ]
  },
  {
   "cell_type": "code",
   "execution_count": 29,
   "metadata": {},
   "outputs": [
    {
     "name": "stderr",
     "output_type": "stream",
     "text": [
      "Warning message:\n",
      "\"not plotting observations with leverage one:\n",
      "  274\"Warning message:\n",
      "\"not plotting observations with leverage one:\n",
      "  274\""
     ]
    },
    {
     "data": {
      "image/png": "[encoded data removed]",
      "text/plain": [
       "Plot with title \"Series  model2$resid\""
      ]
     },
     "metadata": {},
     "output_type": "display_data"
    }
   ],
   "source": [
    "par(mfrow = c(2, 3))\n",
    "plot(model2)\n",
    "acf(model2$resid)"
   ]
  },
  {
   "cell_type": "markdown",
   "metadata": {},
   "source": [
    "Comparing to the full model, there is a improvement in the residuals vs leverage plot, as it does not indicate any influence point."
   ]
  },
  {
   "cell_type": "markdown",
   "metadata": {},
   "source": [
    "The next model is using forward and backward selection based on the full model. Then compare these three models"
   ]
  },
  {
   "cell_type": "markdown",
   "metadata": {},
   "source": [
    "### Third model using backward and forward selection"
   ]
  },
  {
   "cell_type": "code",
   "execution_count": 30,
   "metadata": {},
   "outputs": [
    {
     "name": "stdout",
     "output_type": "stream",
     "text": [
      "Start:  AIC=279.83\n",
      "log(area + 1) ~ X + Y + FFMC + DMC + DC + ISI + temp + RH + wind + \n",
      "    rain + day_type + season\n",
      "\n",
      "           Df Sum of Sq    RSS    AIC\n",
      "- temp      1     0.693 714.25 278.24\n",
      "- DC        1     1.728 715.28 278.83\n",
      "- rain      1     1.787 715.34 278.87\n",
      "- ISI       1     1.944 715.50 278.96\n",
      "- FFMC      1     2.115 715.67 279.06\n",
      "- day_type  1     2.986 716.54 279.56\n",
      "<none>                  713.56 279.83\n",
      "- DMC       1     4.433 717.99 280.39\n",
      "- RH        1     5.226 718.78 280.85\n",
      "- season    3    19.211 732.77 284.81\n",
      "- Y         6    31.102 744.66 285.45\n",
      "- wind      1    15.906 729.46 286.94\n",
      "- X         8    42.101 755.66 287.51\n",
      "\n",
      "Step:  AIC=278.23\n",
      "log(area + 1) ~ X + Y + FFMC + DMC + DC + ISI + RH + wind + rain + \n",
      "    day_type + season\n",
      "\n",
      "           Df Sum of Sq    RSS    AIC\n",
      "- rain      1     1.429 715.68 277.06\n",
      "- DC        1     1.526 715.78 277.12\n",
      "- FFMC      1     2.170 716.42 277.49\n",
      "- ISI       1     2.208 716.46 277.51\n",
      "- day_type  1     2.630 716.88 277.75\n",
      "<none>                  714.25 278.24\n",
      "- DMC       1     3.941 718.19 278.51\n",
      "- RH        1     5.524 719.77 279.42\n",
      "- Y         6    30.411 744.66 283.45\n",
      "- X         8    41.426 755.67 285.52\n",
      "- season    3    23.764 738.01 285.75\n",
      "- wind      1    17.465 731.71 286.21\n",
      "\n",
      "Step:  AIC=277.06\n",
      "log(area + 1) ~ X + Y + FFMC + DMC + DC + ISI + RH + wind + day_type + \n",
      "    season\n",
      "\n",
      "           Df Sum of Sq    RSS    AIC\n",
      "- DC        1     1.337 717.02 275.83\n",
      "- ISI       1     2.168 717.85 276.31\n",
      "- FFMC      1     2.339 718.02 276.41\n",
      "- day_type  1     2.430 718.11 276.46\n",
      "<none>                  715.68 277.06\n",
      "- DMC       1     3.906 719.58 277.31\n",
      "- RH        1     5.039 720.72 277.96\n",
      "- Y         6    30.175 745.85 282.12\n",
      "- X         8    41.229 756.91 284.19\n",
      "- season    3    23.250 738.93 284.26\n",
      "- wind      1    17.905 733.58 285.26\n",
      "\n",
      "Step:  AIC=275.83\n",
      "log(area + 1) ~ X + Y + FFMC + DMC + ISI + RH + wind + day_type + \n",
      "    season\n",
      "\n",
      "           Df Sum of Sq    RSS    AIC\n",
      "- ISI       1     1.721 718.74 274.82\n",
      "- FFMC      1     2.166 719.18 275.08\n",
      "- DMC       1     2.572 719.59 275.31\n",
      "- day_type  1     2.793 719.81 275.44\n",
      "<none>                  717.02 275.83\n",
      "- RH        1     4.598 721.61 276.47\n",
      "- Y         6    30.441 747.46 281.00\n",
      "- season    3    23.609 740.62 283.21\n",
      "- wind      1    16.901 733.92 283.45\n",
      "- X         8    42.222 759.24 283.46\n",
      "\n",
      "Step:  AIC=274.82\n",
      "log(area + 1) ~ X + Y + FFMC + DMC + RH + wind + day_type + season\n",
      "\n",
      "           Df Sum of Sq    RSS    AIC\n",
      "- FFMC      1     0.913 719.65 273.35\n",
      "- day_type  1     2.854 721.59 274.46\n",
      "- DMC       1     3.032 721.77 274.56\n",
      "<none>                  718.74 274.82\n",
      "- RH        1     4.578 723.31 275.44\n",
      "- Y         6    30.626 749.36 280.06\n",
      "- wind      1    15.424 734.16 281.59\n",
      "- X         8    42.658 761.39 282.63\n",
      "- season    3    27.874 746.61 284.54\n",
      "\n",
      "Step:  AIC=273.35\n",
      "log(area + 1) ~ X + Y + DMC + RH + wind + day_type + season\n",
      "\n",
      "           Df Sum of Sq    RSS    AIC\n",
      "- day_type  1     2.610 722.26 272.84\n",
      "<none>                  719.65 273.35\n",
      "- DMC       1     4.431 724.08 273.88\n",
      "- RH        1     6.540 726.19 275.08\n",
      "- Y         6    30.281 749.93 278.37\n",
      "- wind      1    15.317 734.97 280.04\n",
      "- X         8    41.938 761.59 280.74\n",
      "- season    3    26.969 746.62 282.54\n",
      "\n",
      "Step:  AIC=272.84\n",
      "log(area + 1) ~ X + Y + DMC + RH + wind + season\n",
      "\n",
      "         Df Sum of Sq    RSS    AIC\n",
      "<none>                722.26 272.84\n",
      "- DMC     1     4.358 726.62 273.33\n",
      "- RH      1     6.034 728.29 274.28\n",
      "- Y       6    30.494 752.75 277.92\n",
      "- wind    1    14.805 737.06 279.22\n",
      "- X       8    41.748 764.01 280.05\n",
      "- season  3    26.207 748.47 281.56\n"
     ]
    },
    {
     "data": {
      "text/plain": [
       "\n",
       "Call:\n",
       "lm(formula = log(area + 1) ~ X + Y + DMC + RH + wind + season, \n",
       "    data = train_data)\n",
       "\n",
       "Coefficients:\n",
       " (Intercept)            X2            X3            X4            X5  \n",
       "    1.225302      0.015592     -0.764653     -0.204543     -0.721121  \n",
       "          X6            X7            X8            X9            Y3  \n",
       "   -0.042079     -0.092858     -0.082039      1.475189      0.533091  \n",
       "          Y4            Y5            Y6            Y8            Y9  \n",
       "    0.511959      0.400765      0.635660      4.389519     -1.493075  \n",
       "         DMC            RH          wind  seasonSpring  seasonSummer  \n",
       "    0.002343     -0.007822      0.109550     -0.817701     -0.962697  \n",
       "seasonAutumn  \n",
       "   -0.481813  \n"
      ]
     },
     "metadata": {},
     "output_type": "display_data"
    }
   ],
   "source": [
    "# backward selection\n",
    "step(modelfull, direction = 'backward')"
   ]
  },
  {
   "cell_type": "code",
   "execution_count": 31,
   "metadata": {},
   "outputs": [],
   "source": [
    "# Build a null model for forward selection\n",
    "modelnull = lm(log(area+1)~1, data = train_data)"
   ]
  },
  {
   "cell_type": "code",
   "execution_count": 32,
   "metadata": {},
   "outputs": [
    {
     "name": "stdout",
     "output_type": "stream",
     "text": [
      "Start:  AIC=288.53\n",
      "log(area + 1) ~ 1\n",
      "\n",
      "           Df Sum of Sq    RSS    AIC\n",
      "+ season    3   17.2796 809.24 285.81\n",
      "+ wind      1    8.5394 817.98 286.24\n",
      "+ Y         6   24.6200 801.90 288.04\n",
      "+ RH        1    4.8350 821.69 288.11\n",
      "<none>                  826.52 288.53\n",
      "+ DC        1    1.6852 824.84 289.69\n",
      "+ ISI       1    1.5371 824.99 289.76\n",
      "+ day_type  1    1.0695 825.45 290.00\n",
      "+ rain      1    0.7008 825.82 290.18\n",
      "+ DMC       1    0.6598 825.86 290.20\n",
      "+ temp      1    0.4741 826.05 290.29\n",
      "+ FFMC      1    0.2862 826.24 290.39\n",
      "+ X         8   26.2440 800.28 291.20\n",
      "\n",
      "Step:  AIC=285.81\n",
      "log(area + 1) ~ season\n",
      "\n",
      "           Df Sum of Sq    RSS    AIC\n",
      "+ wind      1   11.9844 797.26 281.64\n",
      "+ RH        1    5.0282 804.22 285.23\n",
      "+ Y         6   24.2548 784.99 285.24\n",
      "+ temp      1    4.1929 805.05 285.66\n",
      "<none>                  809.24 285.81\n",
      "+ DMC       1    3.8894 805.35 285.82\n",
      "+ X         8   30.1793 779.06 286.11\n",
      "+ FFMC      1    2.0618 807.18 286.75\n",
      "+ day_type  1    1.3679 807.88 287.11\n",
      "+ rain      1    1.0921 808.15 287.25\n",
      "+ DC        1    0.2174 809.03 287.69\n",
      "+ ISI       1    0.0636 809.18 287.77\n",
      "\n",
      "Step:  AIC=281.64\n",
      "log(area + 1) ~ season + wind\n",
      "\n",
      "           Df Sum of Sq    RSS    AIC\n",
      "+ X         8    33.561 763.70 279.88\n",
      "+ temp      1     6.440 790.82 280.29\n",
      "+ RH        1     5.745 791.51 280.66\n",
      "+ Y         6    23.913 773.35 281.07\n",
      "<none>                  797.26 281.64\n",
      "+ DMC       1     3.618 793.64 281.76\n",
      "+ FFMC      1     2.164 795.10 282.52\n",
      "+ day_type  1     1.698 795.56 282.76\n",
      "+ ISI       1     0.773 796.49 283.24\n",
      "+ rain      1     0.676 796.58 283.29\n",
      "+ DC        1     0.012 797.25 283.64\n",
      "\n",
      "Step:  AIC=279.88\n",
      "log(area + 1) ~ season + wind + X\n",
      "\n",
      "           Df Sum of Sq    RSS    AIC\n",
      "+ Y         6    31.671 732.03 274.39\n",
      "+ DMC       1     5.159 758.54 279.08\n",
      "+ RH        1     5.014 758.68 279.16\n",
      "+ temp      1     4.329 759.37 279.53\n",
      "<none>                  763.70 279.88\n",
      "+ FFMC      1     3.427 760.27 280.02\n",
      "+ day_type  1     2.266 761.43 280.65\n",
      "+ rain      1     0.816 762.88 281.44\n",
      "+ DC        1     0.264 763.43 281.74\n",
      "+ ISI       1     0.201 763.50 281.77\n",
      "\n",
      "Step:  AIC=274.39\n",
      "log(area + 1) ~ season + wind + X + Y\n",
      "\n",
      "           Df Sum of Sq    RSS    AIC\n",
      "+ RH        1    5.4089 726.62 273.33\n",
      "+ FFMC      1    3.9496 728.08 274.15\n",
      "+ DMC       1    3.7329 728.29 274.28\n",
      "<none>                  732.03 274.39\n",
      "+ temp      1    2.4379 729.59 275.01\n",
      "+ day_type  1    2.0686 729.96 275.22\n",
      "+ rain      1    0.9832 731.04 275.83\n",
      "+ DC        1    0.1646 731.86 276.30\n",
      "+ ISI       1    0.0754 731.95 276.35\n",
      "\n",
      "Step:  AIC=273.33\n",
      "log(area + 1) ~ season + wind + X + Y + RH\n",
      "\n",
      "           Df Sum of Sq    RSS    AIC\n",
      "+ DMC       1    4.3584 722.26 272.84\n",
      "<none>                  726.62 273.33\n",
      "+ day_type  1    2.5376 724.08 273.88\n",
      "+ FFMC      1    1.9146 724.70 274.24\n",
      "+ rain      1    1.3764 725.24 274.54\n",
      "+ ISI       1    0.4226 726.20 275.08\n",
      "+ DC        1    0.0969 726.52 275.27\n",
      "+ temp      1    0.0000 726.62 275.33\n",
      "\n",
      "Step:  AIC=272.84\n",
      "log(area + 1) ~ season + wind + X + Y + RH + DMC\n",
      "\n",
      "           Df Sum of Sq    RSS    AIC\n",
      "<none>                  722.26 272.84\n",
      "+ day_type  1   2.61019 719.65 273.35\n",
      "+ DC        1   1.21813 721.04 274.14\n",
      "+ rain      1   1.11521 721.14 274.20\n",
      "+ FFMC      1   0.66927 721.59 274.46\n",
      "+ ISI       1   0.58919 721.67 274.50\n",
      "+ temp      1   0.12375 722.14 274.77\n"
     ]
    },
    {
     "data": {
      "text/plain": [
       "\n",
       "Call:\n",
       "lm(formula = log(area + 1) ~ season + wind + X + Y + RH + DMC, \n",
       "    data = train_data)\n",
       "\n",
       "Coefficients:\n",
       " (Intercept)  seasonSpring  seasonSummer  seasonAutumn          wind  \n",
       "    1.225302     -0.817701     -0.962697     -0.481813      0.109550  \n",
       "          X2            X3            X4            X5            X6  \n",
       "    0.015592     -0.764653     -0.204543     -0.721121     -0.042079  \n",
       "          X7            X8            X9            Y3            Y4  \n",
       "   -0.092858     -0.082039      1.475189      0.533091      0.511959  \n",
       "          Y5            Y6            Y8            Y9            RH  \n",
       "    0.400765      0.635660      4.389519     -1.493075     -0.007822  \n",
       "         DMC  \n",
       "    0.002343  \n"
      ]
     },
     "metadata": {},
     "output_type": "display_data"
    }
   ],
   "source": [
    "# forward selection\n",
    "step(modelnull, scope = list(lower = modelnull, upper = modelfull), direction = 'forward')"
   ]
  },
  {
   "cell_type": "markdown",
   "metadata": {},
   "source": [
    "The aim of using the stepwise function is to find the model with minimum AIC value. The backward elimination starting from the model with the full model and take variables out if it can decrease the value of AIC. From the output, if the temperature is removed, the AIC will drop to 278.24 from 279.83. If the regression continues to drop one more explanatory variable, the AIC will further decrease until an optimal point. The Forward selection starting from the null model and put a new variable into the regression if it reduces the AIC. From the output, the variable season, wind, X, and Y coordinate, RH and DMC are included, and the AIC is 272.84, where initially is 288.53. \n",
    "\n",
    "Both forward and backward selection indicates the regression contains season, wind, X, and Y coordinate, RH, DMC is the most optimal regression based on AIC value. The third regression will be modeled. "
   ]
  },
  {
   "cell_type": "code",
   "execution_count": 33,
   "metadata": {},
   "outputs": [],
   "source": [
    "# The model based on forward and backward selection\n",
    "finalmodel = lm(log(area+1)~X + Y + DMC + RH + wind + season, data = train_data)"
   ]
  },
  {
   "cell_type": "code",
   "execution_count": 34,
   "metadata": {},
   "outputs": [
    {
     "name": "stderr",
     "output_type": "stream",
     "text": [
      "Warning message:\n",
      "\"not plotting observations with leverage one:\n",
      "  274\"Warning message:\n",
      "\"not plotting observations with leverage one:\n",
      "  274\""
     ]
    },
    {
     "data": {
      "image/png": "[encoded data removed]",
      "text/plain": [
       "Plot with title \"Series  finalmodel$residuals\""
      ]
     },
     "metadata": {},
     "output_type": "display_data"
    }
   ],
   "source": [
    "# Diagnostic test\n",
    "par(mfrow = c(2,3))\n",
    "plot(finalmodel)\n",
    "acf(finalmodel$residuals)"
   ]
  },
  {
   "cell_type": "markdown",
   "metadata": {},
   "source": [
    "From the residual check, the first graph named 'Residuals VS Fitted' is used to check for non-randomness. It is expected to see the residuals are equally spread around the horizontal line without distinct patterns. The graph indicates the red line is not horizontal at 0. Therefore, the residuals violate the assumption of non-randomness. \n",
    "\n",
    "The second graph named 'Normal Q-Q' is used to test the normality assumption. The graph shows the normal probability plot of residual is not following the red line as the tail of the qqplot is skewed away from the dashed line. Therefore, further statistics tests, like the Shapiro test needed to conduct.\n",
    "\n",
    "The third graph named 'Scale-Location' is used to check the homogeneity of variance of the residuals. The plot shows the red line is not a horizontal line, which indicates the residuals violate the assumption of homoscedasticity. Further test like ncv test is needed to conduct. \n",
    "\n",
    "The fourth graph named 'Residuals VS Leverage' is used to check whether there is an influence point. From the graph, there is no point go beyond the cook's distance. Therefore, the residuals do not have an influential point effect. \n",
    "\n",
    "The last graph named 'Series residuals' is used to test the auto-correlation within the residuals. Based on the 5% significant level, it is expected to see a lag exceeds a 5% significance level for every 20 lags. Therefore, the graph shows the errors does not dependent on the last lag. Further test like the Durbin-Watson test is needed to conduct. "
   ]
  },
  {
   "cell_type": "code",
   "execution_count": 35,
   "metadata": {},
   "outputs": [
    {
     "data": {
      "text/html": [
       "<table>\n",
       "<thead><tr><th></th><th scope=col>GVIF</th><th scope=col>Df</th><th scope=col>GVIF^(1/(2*Df))</th></tr></thead>\n",
       "<tbody>\n",
       "\t<tr><th scope=row>X</th><td>8.536279</td><td>8       </td><td>1.143416</td></tr>\n",
       "\t<tr><th scope=row>Y</th><td>7.886409</td><td>6       </td><td>1.187791</td></tr>\n",
       "\t<tr><th scope=row>DMC</th><td>1.995935</td><td>1       </td><td>1.412775</td></tr>\n",
       "\t<tr><th scope=row>RH</th><td>1.072460</td><td>1       </td><td>1.035597</td></tr>\n",
       "\t<tr><th scope=row>wind</th><td>1.102259</td><td>1       </td><td>1.049885</td></tr>\n",
       "\t<tr><th scope=row>season</th><td>2.504708</td><td>3       </td><td>1.165358</td></tr>\n",
       "</tbody>\n",
       "</table>\n"
      ],
      "text/latex": [
       "\\begin{tabular}{r|lll}\n",
       "  & GVIF & Df & GVIF\\textasciicircum{}(1/(2*Df))\\\\\n",
       "\\hline\n",
       "\tX & 8.536279 & 8        & 1.143416\\\\\n",
       "\tY & 7.886409 & 6        & 1.187791\\\\\n",
       "\tDMC & 1.995935 & 1        & 1.412775\\\\\n",
       "\tRH & 1.072460 & 1        & 1.035597\\\\\n",
       "\twind & 1.102259 & 1        & 1.049885\\\\\n",
       "\tseason & 2.504708 & 3        & 1.165358\\\\\n",
       "\\end{tabular}\n"
      ],
      "text/markdown": [
       "\n",
       "| <!--/--> | GVIF | Df | GVIF^(1/(2*Df)) |\n",
       "|---|---|---|---|\n",
       "| X | 8.536279 | 8        | 1.143416 |\n",
       "| Y | 7.886409 | 6        | 1.187791 |\n",
       "| DMC | 1.995935 | 1        | 1.412775 |\n",
       "| RH | 1.072460 | 1        | 1.035597 |\n",
       "| wind | 1.102259 | 1        | 1.049885 |\n",
       "| season | 2.504708 | 3        | 1.165358 |\n",
       "\n"
      ],
      "text/plain": [
       "       GVIF     Df GVIF^(1/(2*Df))\n",
       "X      8.536279 8  1.143416       \n",
       "Y      7.886409 6  1.187791       \n",
       "DMC    1.995935 1  1.412775       \n",
       "RH     1.072460 1  1.035597       \n",
       "wind   1.102259 1  1.049885       \n",
       "season 2.504708 3  1.165358       "
      ]
     },
     "metadata": {},
     "output_type": "display_data"
    }
   ],
   "source": [
    "# Multicollinearity test\n",
    "vif(finalmodel)"
   ]
  },
  {
   "cell_type": "markdown",
   "metadata": {},
   "source": [
    "Since there are some categorical variables involved, like X and Y coordinates, and season. The value of GVIF^(1/(2*Df)) is used to test the multicollinearity. If any value in the column GVIF^(1/(2*Df)) exceeds 2, the corresponding variable might have a multicollinearity problem.\n",
    "\n",
    "Based on the table above, none of these values exceeds 2. Therefore, there is no multicollinearity problem detected. \n",
    "\n",
    "Although this study explored there is a correlation between each variable during the EDA part, statistics show there is no multicollinearity when building models. There are two kinds of multicollinearity:\n",
    "- structural multicollinearity: this type occurs when building models using related terms\n",
    "- data multicollinearity: this type of multicollinearity is present in the data itself rather than impacting models\n",
    "\n",
    "In this case, data multicollinearity could explain the correlation among variables does not influence the linear model"
   ]
  },
  {
   "cell_type": "code",
   "execution_count": 36,
   "metadata": {},
   "outputs": [
    {
     "data": {
      "text/plain": [
       "Non-constant Variance Score Test \n",
       "Variance formula: ~ fitted.values \n",
       "Chisquare = 11.22705, Df = 1, p = 0.00080614"
      ]
     },
     "metadata": {},
     "output_type": "display_data"
    }
   ],
   "source": [
    "# non-constant error variance test\n",
    "#H0: Errors have a constant Variance\n",
    "\n",
    "#H1: Errors have a non-constant variance\n",
    "ncvTest(finalmodel)"
   ]
  },
  {
   "cell_type": "markdown",
   "metadata": {},
   "source": [
    "The statistics of the p-value from ncvTest is less than 5% significant level, the hypothesis of errors have a constant variance is rejected. Therefore, the residuals violate the assumption of homoscedasticity. "
   ]
  },
  {
   "cell_type": "code",
   "execution_count": 37,
   "metadata": {},
   "outputs": [
    {
     "data": {
      "text/plain": [
       "\n",
       "\tShapiro-Wilk normality test\n",
       "\n",
       "data:  finalmodel$residuals\n",
       "W = 0.92349, p-value = 1.147e-13\n"
      ]
     },
     "metadata": {},
     "output_type": "display_data"
    }
   ],
   "source": [
    "# Test for Normally Distributed Errors\n",
    "#H0: Errors are normally distributed\n",
    "\n",
    "#H1: Errors are not normally distributed\n",
    "shapiro.test(finalmodel$residuals)"
   ]
  },
  {
   "cell_type": "markdown",
   "metadata": {},
   "source": [
    "The statistics of the p-value from the Shapiro test is less than 5% significant level, which indicates the null hypothesis of errors are normal distributed is rejects. Therefore, the errors violate the assumption of normal distribution."
   ]
  },
  {
   "cell_type": "code",
   "execution_count": 38,
   "metadata": {},
   "outputs": [
    {
     "data": {
      "text/plain": [
       " lag Autocorrelation D-W Statistic p-value\n",
       "   1       0.0315145      1.935245   0.496\n",
       " Alternative hypothesis: rho != 0"
      ]
     },
     "metadata": {},
     "output_type": "display_data"
    }
   ],
   "source": [
    "# Test for Autocorrelated Errors\n",
    "#H0: Errors are uncorrelated\n",
    "\n",
    "#H1: Errors are correlated\n",
    "durbinWatsonTest(finalmodel)"
   ]
  },
  {
   "cell_type": "markdown",
   "metadata": {},
   "source": [
    "The statistics of the p-value from the Durbin-Watson test is greater than the 5% significance level, which means the null hypothesis of errors is uncorrelated cannot be rejected. Therefore, the errors do not correlate with previous lags. "
   ]
  },
  {
   "cell_type": "markdown",
   "metadata": {},
   "source": [
    "Overall, after conducting diagnostic tests and relevant hypothesis tests, not all assumptions of linear regression are followed. The main problem of this final model is the residual is not randomly distributed and the variance is not constant. \n",
    "\n",
    "However, after building the GAM model for the same explanatory variables, the effective degrees of freedom suggests the most appropriate complexity of the smooth for each explanatory variable is 1. Therefore, there is no need to do any transformation about each dependent variable, and then fit into the linear regression\n",
    "\n",
    "Therefore, the non-linear model is introduced."
   ]
  },
  {
   "cell_type": "markdown",
   "metadata": {},
   "source": [
    "### Separate the data and area for both training set and testing set"
   ]
  },
  {
   "cell_type": "code",
   "execution_count": 39,
   "metadata": {},
   "outputs": [],
   "source": [
    "train.data = data[train_sample,-c(3:4,13:15)] #without the area column\n",
    "train.label = data[train_sample,13] #only the area column\n",
    "test.data = data[-train_sample,-c(3:4,13:15)] #without the area column\n",
    "test.label = data[-train_sample,13] #without the area column"
   ]
  },
  {
   "cell_type": "code",
   "execution_count": 40,
   "metadata": {},
   "outputs": [],
   "source": [
    "# KNN regression and ridge regression only take numeric inputs\n",
    "# Convert factors into numeric\n",
    "train.data$X = as.numeric(train.data$X)\n",
    "train.data$Y = as.numeric(train.data$Y)\n",
    "test.data$X = as.numeric(test.data$X)\n",
    "test.data$Y = as.numeric(test.data$Y)"
   ]
  },
  {
   "cell_type": "markdown",
   "metadata": {},
   "source": [
    "### KNN regression "
   ]
  },
  {
   "cell_type": "code",
   "execution_count": 41,
   "metadata": {},
   "outputs": [],
   "source": [
    "# Build a function to calculate the RMSE using knn regression\n",
    "knn_pred = function(k, train.data, train.label, test.data, test.label) {\n",
    "  pred = knn.reg(train = train.data, \n",
    "                 test = test.data, \n",
    "                 y = train.label, k = k)$pred\n",
    "  return(sqrt(mean((pred - test.label)^2)))\n",
    "}"
   ]
  },
  {
   "cell_type": "code",
   "execution_count": 42,
   "metadata": {},
   "outputs": [],
   "source": [
    "# Set up values of k from 1 to 50, and sotre the RMSE for each k in the knn regression \n",
    "K = seq(1,50)\n",
    "knn_df = data.frame()"
   ]
  },
  {
   "cell_type": "code",
   "execution_count": 43,
   "metadata": {},
   "outputs": [
    {
     "data": {
      "text/html": [
       "<table>\n",
       "<thead><tr><th scope=col>k</th><th scope=col>RMSE</th></tr></thead>\n",
       "<tbody>\n",
       "\t<tr><td>1       </td><td>2.083375</td></tr>\n",
       "\t<tr><td>2       </td><td>1.827188</td></tr>\n",
       "\t<tr><td>3       </td><td>1.630933</td></tr>\n",
       "\t<tr><td>4       </td><td>1.619414</td></tr>\n",
       "\t<tr><td>5       </td><td>1.575487</td></tr>\n",
       "\t<tr><td>6       </td><td>1.513888</td></tr>\n",
       "</tbody>\n",
       "</table>\n"
      ],
      "text/latex": [
       "\\begin{tabular}{r|ll}\n",
       " k & RMSE\\\\\n",
       "\\hline\n",
       "\t 1        & 2.083375\\\\\n",
       "\t 2        & 1.827188\\\\\n",
       "\t 3        & 1.630933\\\\\n",
       "\t 4        & 1.619414\\\\\n",
       "\t 5        & 1.575487\\\\\n",
       "\t 6        & 1.513888\\\\\n",
       "\\end{tabular}\n"
      ],
      "text/markdown": [
       "\n",
       "| k | RMSE |\n",
       "|---|---|\n",
       "| 1        | 2.083375 |\n",
       "| 2        | 1.827188 |\n",
       "| 3        | 1.630933 |\n",
       "| 4        | 1.619414 |\n",
       "| 5        | 1.575487 |\n",
       "| 6        | 1.513888 |\n",
       "\n"
      ],
      "text/plain": [
       "  k RMSE    \n",
       "1 1 2.083375\n",
       "2 2 1.827188\n",
       "3 3 1.630933\n",
       "4 4 1.619414\n",
       "5 5 1.575487\n",
       "6 6 1.513888"
      ]
     },
     "metadata": {},
     "output_type": "display_data"
    }
   ],
   "source": [
    "for (k in K){\n",
    "    pred = knn_pred(k, train.data, log(train.label+1), test.data, log(test.label+1))\n",
    "    knn_df = rbind(knn_df, c(k, pred))\n",
    "}\n",
    "colnames(knn_df) = c('k', 'RMSE')\n",
    "head(knn_df)"
   ]
  },
  {
   "cell_type": "code",
   "execution_count": 44,
   "metadata": {},
   "outputs": [
    {
     "data": {
      "image/png": "[encoded data removed]",
      "text/plain": [
       "Plot with title \"Training RMSE for each k\""
      ]
     },
     "metadata": {},
     "output_type": "display_data"
    }
   ],
   "source": [
    "# Visualise the training RMSE for each value of k\n",
    "plot(knn_df, type = 'l', main = 'Training RMSE for each k')\n",
    "points(knn_df[which.min(knn_df$RMSE),], col = 'red', cex = 3, pch = 20)"
   ]
  },
  {
   "cell_type": "markdown",
   "metadata": {},
   "source": [
    "From the training set, when k = 39, the RMSE is the lowest. Therefore, the trained knn regression uses k =39 "
   ]
  },
  {
   "cell_type": "code",
   "execution_count": 45,
   "metadata": {},
   "outputs": [],
   "source": [
    "# Train the knn regression\n",
    "knnreg = knn.reg(train.data, test.data, train.label, k = 39)"
   ]
  },
  {
   "cell_type": "markdown",
   "metadata": {},
   "source": [
    "Due to the limitation of KNN regression, it is difficult to interpret the regression. \n",
    "\n",
    "The predicted value of KNN regression is averaging K neighbours area value, and then connect all the predicted value as a line. It is not possible to test the significance of the regression, and the value of R square."
   ]
  },
  {
   "cell_type": "markdown",
   "metadata": {},
   "source": [
    "### Ridge Regression"
   ]
  },
  {
   "cell_type": "markdown",
   "metadata": {},
   "source": [
    "There are two regularisation terms. One is ridge regularisation, which is also called L2 regularisation, and the other one is Lasso regularisation, which is called L1 regularisation. \n",
    "\n",
    "In this study, ridge regression is used instead of lasso regression. The reason will be discussed in the later section"
   ]
  },
  {
   "cell_type": "code",
   "execution_count": 46,
   "metadata": {},
   "outputs": [],
   "source": [
    "train.mat <- model.matrix(area ~ ., data = train_data)[,-1]\n",
    "test.mat <- model.matrix(area ~ ., data = test_data)[,-1]"
   ]
  },
  {
   "cell_type": "code",
   "execution_count": 47,
   "metadata": {},
   "outputs": [],
   "source": [
    "# Generate a list of lambda to do croos-validation\n",
    "grid <- 10^seq(4, -2, length = 100)"
   ]
  },
  {
   "cell_type": "code",
   "execution_count": 48,
   "metadata": {},
   "outputs": [],
   "source": [
    "set.seed(1)\n",
    "\n",
    "# cross-validatation step\n",
    "cv.ridge <- cv.glmnet(train.mat, log(train.label+1), alpha = 0, lambda = grid, thresh = 1e-12)"
   ]
  },
  {
   "cell_type": "code",
   "execution_count": 49,
   "metadata": {},
   "outputs": [
    {
     "data": {
      "image/png": "[encoded data removed]",
      "text/plain": [
       "plot without title"
      ]
     },
     "metadata": {},
     "output_type": "display_data"
    }
   ],
   "source": [
    "plot(cv.ridge)"
   ]
  },
  {
   "cell_type": "markdown",
   "metadata": {},
   "source": [
    "As the value of lambda increases, the impact of shrinkage penalty grows and the mean squared error is decreasing. If the lambda equals to 0, the ridge regression will produce the classic least square coefficients, as there is no penalty term. \n",
    "\n",
    "From the plot, the minimum MSE is reached when the log(lambda) is about 4."
   ]
  },
  {
   "cell_type": "code",
   "execution_count": 50,
   "metadata": {},
   "outputs": [
    {
     "data": {
      "text/html": [
       "57.2236765935021"
      ],
      "text/latex": [
       "57.2236765935021"
      ],
      "text/markdown": [
       "57.2236765935021"
      ],
      "text/plain": [
       "[1] 57.22368"
      ]
     },
     "metadata": {},
     "output_type": "display_data"
    }
   ],
   "source": [
    "# find the optimal value of lambda\n",
    "bestlam.ridge <- cv.ridge$lambda.min\n",
    "bestlam.ridge"
   ]
  },
  {
   "cell_type": "markdown",
   "metadata": {},
   "source": [
    "By taking the exponential of the log(lambda), the best value of lambda in ridge regression is 57.2. The ridge model is then built by using this best value of lambda"
   ]
  },
  {
   "cell_type": "code",
   "execution_count": 51,
   "metadata": {},
   "outputs": [],
   "source": [
    "# train the ridge regression using optimal value of lambda\n",
    "fit.ridge <- glmnet(train.mat, log(train.label+1), alpha = 0, lambda = bestlam.ridge)"
   ]
  },
  {
   "cell_type": "code",
   "execution_count": 52,
   "metadata": {},
   "outputs": [
    {
     "data": {
      "text/plain": [
       "27 x 1 sparse Matrix of class \"dgCMatrix\"\n",
       "                              s0\n",
       "(Intercept)         1.145823e+00\n",
       "X2                  1.207142e-04\n",
       "X3                 -1.472112e-02\n",
       "X4                  2.122972e-03\n",
       "X5                 -1.132560e-02\n",
       "X6                  3.425665e-03\n",
       "X7                  3.138448e-03\n",
       "X8                  4.412979e-03\n",
       "X9                  1.783977e-02\n",
       "Y3                  4.498025e-03\n",
       "Y4                 -7.390598e-05\n",
       "Y5                 -7.068478e-04\n",
       "Y6                  3.011701e-03\n",
       "Y8                  9.832401e-02\n",
       "Y9                 -1.343831e-02\n",
       "FFMC                1.274680e-04\n",
       "DMC                 1.512450e-05\n",
       "DC                  5.811787e-06\n",
       "ISI                -3.245555e-04\n",
       "temp                1.327636e-04\n",
       "RH                 -1.622898e-04\n",
       "wind                1.944829e-03\n",
       "rain                3.049840e-03\n",
       "day_typeWorkingday -2.611382e-03\n",
       "seasonSpring       -7.087381e-03\n",
       "seasonSummer       -5.878745e-03\n",
       "seasonAutumn        6.834313e-03"
      ]
     },
     "metadata": {},
     "output_type": "display_data"
    }
   ],
   "source": [
    "coef(fit.ridge)"
   ]
  },
  {
   "cell_type": "markdown",
   "metadata": {},
   "source": [
    "Similarly, the limitation of ridge regression is lacking of interpretability. The regression only tells the coefficient of each explanatory variable without the associate p-value.\n",
    "\n",
    "From the ridge regression, all coefficients except intercept are not significant from 0, but not equals to 0. This is because the ridge regression shrinks the coefficients towards zero, but will not set any of them exactly to 0. If Lasso regularisation implied, the coefficients of each variable will equal to 0. "
   ]
  },
  {
   "cell_type": "markdown",
   "metadata": {},
   "source": [
    "# 4. Model Comparsion<a class=\"anchor\" id=\"sec_4\"></a>"
   ]
  },
  {
   "cell_type": "markdown",
   "metadata": {},
   "source": [
    "## During training process"
   ]
  },
  {
   "cell_type": "markdown",
   "metadata": {},
   "source": [
    "### For linear model\n",
    "There are three linear models developed, and their R square are shown as below"
   ]
  },
  {
   "cell_type": "code",
   "execution_count": 53,
   "metadata": {},
   "outputs": [
    {
     "name": "stdout",
     "output_type": "stream",
     "text": [
      "The adjusted R square of modelfull is:  0.07852689 \n",
      "The adjusted R square of model2 is:  0.07386821 \n",
      "The adjusted R square of finalmodel is:  0.08156332"
     ]
    }
   ],
   "source": [
    "cat('The adjusted R square of modelfull is: ', summary(modelfull)$adj.r.squared, '\\n')\n",
    "cat('The adjusted R square of model2 is: ', summary(model2)$adj.r.squared, '\\n')\n",
    "cat('The adjusted R square of finalmodel is: ', summary(finalmodel)$adj.r.squared)"
   ]
  },
  {
   "cell_type": "markdown",
   "metadata": {},
   "source": [
    "Comparing the adjusted R Square of these models, the final model has the highest explanatory power. "
   ]
  },
  {
   "cell_type": "code",
   "execution_count": 54,
   "metadata": {},
   "outputs": [
    {
     "data": {
      "text/html": [
       "<table>\n",
       "<thead><tr><th scope=col>Res.Df</th><th scope=col>RSS</th><th scope=col>Df</th><th scope=col>Sum of Sq</th><th scope=col>F</th><th scope=col>Pr(&gt;F)</th></tr></thead>\n",
       "<tbody>\n",
       "\t<tr><td>386       </td><td>713.5558  </td><td>NA        </td><td>       NA </td><td>      NA  </td><td>        NA</td></tr>\n",
       "\t<tr><td>394       </td><td>732.0268  </td><td>-8        </td><td>-18.47101 </td><td>1.248993  </td><td>0.26918081</td></tr>\n",
       "\t<tr><td>392       </td><td>722.2595  </td><td> 2        </td><td>  9.76732 </td><td>2.641830  </td><td>0.07251863</td></tr>\n",
       "</tbody>\n",
       "</table>\n"
      ],
      "text/latex": [
       "\\begin{tabular}{r|llllll}\n",
       " Res.Df & RSS & Df & Sum of Sq & F & Pr(>F)\\\\\n",
       "\\hline\n",
       "\t 386        & 713.5558   & NA         &        NA  &       NA   &         NA\\\\\n",
       "\t 394        & 732.0268   & -8         & -18.47101  & 1.248993   & 0.26918081\\\\\n",
       "\t 392        & 722.2595   &  2         &   9.76732  & 2.641830   & 0.07251863\\\\\n",
       "\\end{tabular}\n"
      ],
      "text/markdown": [
       "\n",
       "| Res.Df | RSS | Df | Sum of Sq | F | Pr(>F) |\n",
       "|---|---|---|---|---|---|\n",
       "| 386        | 713.5558   | NA         |        NA  |       NA   |         NA |\n",
       "| 394        | 732.0268   | -8         | -18.47101  | 1.248993   | 0.26918081 |\n",
       "| 392        | 722.2595   |  2         |   9.76732  | 2.641830   | 0.07251863 |\n",
       "\n"
      ],
      "text/plain": [
       "  Res.Df RSS      Df Sum of Sq F        Pr(>F)    \n",
       "1 386    713.5558 NA        NA       NA         NA\n",
       "2 394    732.0268 -8 -18.47101 1.248993 0.26918081\n",
       "3 392    722.2595  2   9.76732 2.641830 0.07251863"
      ]
     },
     "metadata": {},
     "output_type": "display_data"
    }
   ],
   "source": [
    "anova(modelfull, model2, finalmodel)"
   ]
  },
  {
   "cell_type": "markdown",
   "metadata": {},
   "source": [
    "The summary of each linear regression is provided as above. The adjusted R-Square is similar for each model, which all about 0.08, and the p-value of the F-test in each model all suggests that there is at least one variable that is significant from 0. Therefore, it is important to use the ANOVA test to select one linear model to do the predicting. "
   ]
  },
  {
   "cell_type": "markdown",
   "metadata": {},
   "source": [
    "Based on the full model, the final model removes some variables using forward and backward selection, and lead to a significantly improved fit over the full model and best subset selection model at the 0.1 significance level.\n",
    "\n",
    "Therefore, the linear model called the final model will be chosen to do further analysis."
   ]
  },
  {
   "cell_type": "code",
   "execution_count": 55,
   "metadata": {},
   "outputs": [
    {
     "data": {
      "text/plain": [
       "\n",
       "Call:\n",
       "lm(formula = log(area + 1) ~ X + Y + DMC + RH + wind + season, \n",
       "    data = train_data)\n",
       "\n",
       "Residuals:\n",
       "    Min      1Q  Median      3Q     Max \n",
       "-2.4815 -1.0445 -0.3440  0.7945  5.3828 \n",
       "\n",
       "Coefficients:\n",
       "              Estimate Std. Error t value Pr(>|t|)   \n",
       "(Intercept)   1.225302   0.473454   2.588  0.01001 * \n",
       "X2            0.015592   0.281159   0.055  0.95580   \n",
       "X3           -0.764653   0.329717  -2.319  0.02090 * \n",
       "X4           -0.204543   0.297020  -0.689  0.49145   \n",
       "X5           -0.721121   0.377381  -1.911  0.05675 . \n",
       "X6           -0.042079   0.310639  -0.135  0.89232   \n",
       "X7           -0.092858   0.323798  -0.287  0.77443   \n",
       "X8           -0.082039   0.411415  -0.199  0.84205   \n",
       "X9            1.475189   0.582384   2.533  0.01170 * \n",
       "Y3            0.533091   0.350379   1.521  0.12895   \n",
       "Y4            0.511959   0.297932   1.718  0.08652 . \n",
       "Y5            0.400765   0.312520   1.282  0.20047   \n",
       "Y6            0.635660   0.420071   1.513  0.13103   \n",
       "Y8            4.389519   1.430493   3.069  0.00230 **\n",
       "Y9           -1.493075   0.899661  -1.660  0.09780 . \n",
       "DMC           0.002343   0.001523   1.538  0.12485   \n",
       "RH           -0.007822   0.004322  -1.810  0.07110 . \n",
       "wind          0.109550   0.038647   2.835  0.00483 **\n",
       "seasonSpring -0.817701   0.339026  -2.412  0.01633 * \n",
       "seasonSummer -0.962697   0.357949  -2.689  0.00746 **\n",
       "seasonAutumn -0.481813   0.343855  -1.401  0.16194   \n",
       "---\n",
       "Signif. codes:  0 '***' 0.001 '**' 0.01 '*' 0.05 '.' 0.1 ' ' 1\n",
       "\n",
       "Residual standard error: 1.357 on 392 degrees of freedom\n",
       "Multiple R-squared:  0.1261,\tAdjusted R-squared:  0.08156 \n",
       "F-statistic: 2.829 on 20 and 392 DF,  p-value: 5.681e-05\n"
      ]
     },
     "metadata": {},
     "output_type": "display_data"
    }
   ],
   "source": [
    "summary(finalmodel)"
   ]
  },
  {
   "cell_type": "markdown",
   "metadata": {},
   "source": [
    "Based on the summary result of this final linear model, \n",
    "- The adjusted R square is 0.08, which is higher than that value in other models. It explains 8% of the variation in the log(area+1).\n",
    "- The F-statistic is 2.829 with p-value less than 5% significance level, which suggest at least one variable in this regression is significant at the 5% significance level "
   ]
  },
  {
   "cell_type": "markdown",
   "metadata": {},
   "source": [
    "### For KNN regression"
   ]
  },
  {
   "cell_type": "markdown",
   "metadata": {},
   "source": [
    "As discussed in the model development section, based on the training data set, k = 39 has the lowest RMSE for KNN regression. Therefore, the knn regression which k = 39 will be trained, and used to do further prediction "
   ]
  },
  {
   "cell_type": "markdown",
   "metadata": {},
   "source": [
    "### For Ridge regression"
   ]
  },
  {
   "cell_type": "markdown",
   "metadata": {},
   "source": [
    "As discussed in the model developed section, by using cross-validation to get the optimal value of lambda, then use that lambda to train the ridge regression to do further prediction task."
   ]
  },
  {
   "cell_type": "markdown",
   "metadata": {},
   "source": [
    "Overall, here are three models to do the prediction, one is a linear model using both forward and backward selection; the second one is the KNN regression, and the last one is the ridge regression. "
   ]
  },
  {
   "cell_type": "markdown",
   "metadata": {},
   "source": [
    "### Comparison between the OLS and Ridge regression before testing"
   ]
  },
  {
   "cell_type": "code",
   "execution_count": 56,
   "metadata": {},
   "outputs": [
    {
     "name": "stdout",
     "output_type": "stream",
     "text": [
      "The R square of ridge regression is:  0.004974744 \n",
      "The R square of linear model is:  0.1261476"
     ]
    }
   ],
   "source": [
    "# Calculate the R-Square of ridge regression\n",
    "SST = sum((log(train.label+1) - mean(log(train.label+1)))^2)\n",
    "SSE = sum((predict(fit.ridge, newx = train.mat) - log(train.label+1))^2)\n",
    "Rsq = 1 - SSE/SST\n",
    "cat('The R square of ridge regression is: ', Rsq, '\\n')\n",
    "cat('The R square of linear model is: ', summary(finalmodel)$r.squared)"
   ]
  },
  {
   "cell_type": "markdown",
   "metadata": {},
   "source": [
    "In terms of the R square of these models, only the linear model can provide the R square easily, whereas the R square of the ridge regression is computed manually. Comparing the statistics of R square in these two models, the linear model explains 12.6% of the variation in the log(area+1), whereas the ridge regression only explains 0.5% of the variation of the dependent variable. \n",
    "\n",
    "Although the linear model has a higher value of R-Square, it may not perform better than the ridge regression in predicting. "
   ]
  },
  {
   "cell_type": "markdown",
   "metadata": {},
   "source": [
    "Since the p-value of each coefficient cannot be accessed, this report will further compare the magnitude of coefficients between the linear model and ridge regression. \n",
    "\n",
    "\n",
    "After comparing the coefficients in these two models, \n",
    "- only the value of the intercept is similar, whereas all values of coefficients are close to 0. \n",
    "- those significant coefficients in the linear model have the same direction effect as the coefficients in the ridge regression."
   ]
  },
  {
   "cell_type": "markdown",
   "metadata": {},
   "source": [
    "## During testing process"
   ]
  },
  {
   "cell_type": "code",
   "execution_count": 57,
   "metadata": {},
   "outputs": [],
   "source": [
    "# predict the area in the test set using ridge regression\n",
    "pred.ridge = predict(fit.ridge, newx = test.mat)"
   ]
  },
  {
   "cell_type": "code",
   "execution_count": 58,
   "metadata": {},
   "outputs": [
    {
     "name": "stdout",
     "output_type": "stream",
     "text": [
      "The RMSE of linear model is:  1.362098 \n",
      "The RMSE of KNN regression is:  3.596741 \n",
      "The RMSE of ridge regression is:  1.329006"
     ]
    }
   ],
   "source": [
    "cat('The RMSE of linear model is: ', sqrt(mean((predict(finalmodel, test_data)-log(test.label+1))^2)), '\\n')\n",
    "cat('The RMSE of KNN regression is: ', sqrt(mean((knnreg$pred - log(test.label+1)^2))), '\\n')\n",
    "cat('The RMSE of ridge regression is: ', sqrt(mean((pred.ridge - log(test.label+1))^2)))"
   ]
  },
  {
   "cell_type": "markdown",
   "metadata": {},
   "source": [
    "From the above statistics, it shows the RMSE of ridge regression performs better than the other two models, and the non-parametric model performs worse than the parametric model in this case. However, there is no significant difference in RMSE between ridge regression and linear regression. This is because the ridge regression only adds a penalty term based on the linear regression model, and the coefficients in the linear model are different from the ridge regression, as the ridge regression shrinks all coefficients approximately 0. "
   ]
  },
  {
   "cell_type": "markdown",
   "metadata": {},
   "source": [
    "### Detailed comparison between models"
   ]
  },
  {
   "cell_type": "markdown",
   "metadata": {},
   "source": [
    "Linear model:\n",
    "- Advantages of using the linear model:\n",
    "    1. Easy to fit, and fast to predict\n",
    "    2. Easy to interpret\n",
    "\n",
    "- Disadvantages of using the linear model;\n",
    "    1. Strong assumptions implied about the linear model. \n",
    "    2. It will produce poor prediction if the true relationship is non-linear"
   ]
  },
  {
   "cell_type": "markdown",
   "metadata": {},
   "source": [
    "### Linear model VS KNN regression"
   ]
  },
  {
   "cell_type": "markdown",
   "metadata": {},
   "source": [
    "The KNN regression is non-linear regression. There are many differences between the KNN regression and linear models.\n",
    "1. KNN regression is not a single formula like the linear model. The KNN regression can predict the output value for any given point. Repeating the process for all the input in the training dataset, the regression will be the line that connects all the predicted points. \n",
    "\n",
    "2. Different values of k will influence the regression. If K equals 1, it will result in overfitting, and K equals to the size of the training set, which will result in underfitting, as the KNN regression is just a horizontal line at the mean of the predictor variable. Therefore, it is important to choose the appropriate value of k to train the knn regression. "
   ]
  },
  {
   "cell_type": "markdown",
   "metadata": {},
   "source": [
    "Advantages of using KNN regression:\n",
    "1. If the relationship between independent variables and dependent variables in non-linear, KNN regression performs better than linear regression. \n",
    "\n",
    "2. It does not need to calculate the particular parameters during the training process. Therefore, comparing to the linear model, the KNN regression is trained faster than the linear model. \n",
    "\n",
    "Disadvantages of using KNN regression:\n",
    "1. Comparing to the linear model, although KNN regression performs faster than the linear model during the training process, it is slower than the linear model during the testing process. \n",
    "\n",
    "2. KNN regression lacks interpretability. Unlike the linear model, the coefficients and significance of each variable can be clearly interpreted. It is difficult to interpret which variables or features are significant in the KNN regression. \n",
    "\n",
    "3. KNN regression does not support feature selection."
   ]
  },
  {
   "cell_type": "markdown",
   "metadata": {},
   "source": [
    "###  Ridge regularisation VS Lasso regularisation"
   ]
  },
  {
   "cell_type": "markdown",
   "metadata": {},
   "source": [
    "There are two regularisation terms, and this report only conducts ridge regression instead of Lasso regularisation. The reason is the difference between these two regularisations:\n",
    "- Ridge Regularisation mainly used to prevent overfitting, but it is not useful in case of a high dimension of input variables. Besides, it helps to solve the multicollinearity problem. \n",
    "- Lasso Regularisation provides sparse solutions, but useful in case of a high dimension of input variables. "
   ]
  },
  {
   "cell_type": "markdown",
   "metadata": {},
   "source": [
    "In the training dataset, there are 413 rows and 12 features, which shows the dimension of input variables is lower than the numbers of records of the dataset. Besides, the coefficients in the ridge regression are all approximate to 0, which means these explanatory variables have weak explanation power in predicting the area. If Lasso regularisation applied instead of ridge regularisation, all coefficients will shrink to 0. Therefore, the Ridge regression should perform better than the lasso regression in this case. "
   ]
  },
  {
   "cell_type": "markdown",
   "metadata": {},
   "source": [
    "### Ridge regression VS Linear model and KNN regression"
   ]
  },
  {
   "cell_type": "markdown",
   "metadata": {},
   "source": [
    "The linear model has a low bias but high variances, whereas the ridge regression trades variance for bias. This means the variance of the predicted variable from ridge regression is lower than that from linear regression, but bias is higher. Since the ridge regression shrinks the coefficients towards zero, this introduces some bias.\n",
    "\n",
    "Similar to the linear model, ridge regression minimizes the usual linear regression plus a regularisation term, which means ridge regression is a parametric model. However, KNN regression is a non-parametric regression. \n",
    "\n",
    "Advantages of using Ridge regression:\n",
    "1. Both KNN regression and linear regression does not differentiate important from less important predictors in a model. These two models just include all the inputs, which may lead to overfitting. Ridge regression introduce penalty term to penalise the coefficients of those are not important variables. \n",
    "2. The variance is lower than the linear model\n",
    "3. Prevent multicollinearity problem\n",
    "\n",
    "Disadvantages of using ridge regression:\n",
    "1. Similar to KNN regression, it lacks interpretation\n",
    "2. Biased comparing to the linear model\n",
    "3. Similar to KNN regression, it does not perform feature selection. It will only shrink the coefficients towards zero, but will not set any of them exactly to 0. "
   ]
  },
  {
   "cell_type": "markdown",
   "metadata": {},
   "source": [
    "# 5. Variable Identification and Explanation <a class=\"anchor\" id=\"sec_5\"></a>"
   ]
  },
  {
   "cell_type": "markdown",
   "metadata": {},
   "source": [
    "As discussed in the model development and model comparison section with relevant statistics analysis. Steps to identify the subset of attributes are listed as following:\n",
    "\n",
    "- Step 1: \n",
    "    - Build three models to compare.\n",
    "    - The first model is based on the best subset selection; the second model is simply the full model and the last one is using backward and forward selection based on the full model. The backward and forward selection gives the same model, which includes X, Y coordinates, season, wind, rain, RH, and DMC.\n",
    "    - The forward and backward selection is based on the AIC value, which aims to find the model with the lowest AIC\n",
    "    - The AIC of the final model is 272.84, whereas initially, it is 288.53\n",
    "    - p-value of each coefficient shows they are significant at the 5% significance level\n",
    "\n",
    "- Step 2:\n",
    "    - Then use the ANOVA test to test the significance of three linear models. Statistics show that the final model removes some variables leading to a significantly improved fit over the full model and best subset selection model at 0.1 significance level.\n",
    "    \n",
    "- Step 3:\n",
    "    - From the summary of the final model, the p-values of each coefficient (except some dummy variables) are lower than the 5% significant level, which means they are significant from 0. \n",
    "\n",
    "        - The significant features are X3, X5, X9, Y4, Y8, Y9, RH index, spring, summer, and wind. \n",
    "\n",
    "        - For the X coordinate, X3 and X5 have a negative impact on the area of bushfire, and X9 positively affects the area of bushfire. \n",
    "\n",
    "        - For Y coordinate, Y4 and Y8 positively affect the area of bushfire, and Y9 has a negative impact on the bushfire area.\n",
    "\n",
    "        - RH index, spring, and summer are negatively related to the bushfire area. \n",
    "\n",
    "        - The wind is positively related to the bushfire area."
   ]
  },
  {
   "cell_type": "markdown",
   "metadata": {},
   "source": [
    "Overall, the reason why the chosen subset of attributes have a significant impact on the prediction of the response variable is\n",
    "- the model with chosen subset has higher adjusted R square\n",
    "- the annova test suggest the model with chosen subset is more significantly in explaining the response variable\n",
    "- the pvaluse of the most explanatory variables are significant at the 5% significance level"
   ]
  },
  {
   "cell_type": "markdown",
   "metadata": {},
   "source": [
    "Interpretation of the linear models are: (Note the area is log(area + 1)\n",
    "- If the bushfire happens at X2, the burned area will increase by 0.015 hec compareing to X1\n",
    "- If the bushfire happens at X3, the burned area will decrease by 0.53 hec compareing to X1\n",
    "- If the bushfire happens at X4, the burned area will decrease by 0.185 hec compareing to X1\n",
    "- If the bushfire happens at X5, the burned area will decrease by 0.51 hec compareing to X1\n",
    "- If the bushfire happens at X6, the burned area will decrease by 0.04 hec compareing to X1\n",
    "- If the bushfire happens at X7, the burned area will decrease by 0.089 hec compareing to X1\n",
    "- If the bushfire happens at X8, the burned area will decrease by 0.077 hec compareing to X1\n",
    "- If the bushfire happens at X9, the burned area will increase by 3.37 hec compareing to X1\n",
    "- If the bushfire happens at Y3, the burned area will increase by 0.7 hec compareing to Y2\n",
    "- If the bushfire happens at Y4, the burned area will increase by 0.669 hec compareing to Y2\n",
    "- If the bushfire happens at Y5, the burned area will increase by 0.492 hec compareing to Y2\n",
    "- If the bushfire happens at Y6, the burned area will increase by 0.888 hec compareing to Y2\n",
    "- If the bushfire happens at Y8, the burned area will increase by 79.64 hec compareing to Y2\n",
    "- If the bushfire happens at Y9, the burned area will decrease by 0.77 hec compareing to Y2\n",
    "- one unit increase in DMC index, the burned area will increase by 0.002 hec\n",
    "- one unit increase in RH index, the burned area will decrease by 0.008 hec\n",
    "- one unit increase in wind speed, the burned area will decrease by 0.116 hec\n",
    "- If the bushfire happens during spring, the burned area will decrease by 0.56 hec compareing to winter\n",
    "- If the bushfire happens during summer, the burned area will decrease by 0.62 hec compareing to winter\n",
    "- If the bushfire happens during autumn, the burned area will decrease by 0.382 hec compareing to winter"
   ]
  },
  {
   "cell_type": "markdown",
   "metadata": {},
   "source": [
    "Surprisingly, the coefficient of summer is negatively relate to the bushfire area, which contradict to the finding from EDA. "
   ]
  },
  {
   "cell_type": "markdown",
   "metadata": {},
   "source": [
    "After these important features are selected, they are also used in ridge regression, in order to compare the prediction score. Since all models using the same features to do the prediction, it is easier to understand the difference between these models by comparing the test score. Besides, as ridge regression is based on the linear model with an extra penalty term, by comparing the test score of these two regressions, the advantage of including a penalty term will be demonstrated."
   ]
  },
  {
   "cell_type": "markdown",
   "metadata": {},
   "source": [
    "# 6. Conclusion <a class=\"anchor\" id=\"sec_6\"></a>"
   ]
  },
  {
   "cell_type": "markdown",
   "metadata": {},
   "source": [
    "Overall, the non-parametric model performs the worst in predicting burned areas comparing to parametric models. Within parametric models, including a ridge regularisation slightly improves the predicting score, which produces a smaller RMSE during test process. \n",
    "\n",
    "From the EDA part, this notebook found that most of the features are either positively or negatively correlate with each other. However, it does not cause a multicollinearity problem during modeling. The season is an important feature, as most of the attributes shown some seasonality effect. Interestingly, from the findings of EDA, most of the bushfire happened during summer and the total area burned during summer is higher than in other seasons. However, both linear model and ridge regression show the summer negatively correlates to the area burned. \n",
    "\n",
    "During the modeling process, it is important to select the best subset of features using the steps mentioned in section 5. As higher the adjusted R Square, the higher chance to predict the response variable in the test set. \n",
    "\n",
    "Besides, a comprehensive comparison between these models is well present, which helps people to understand the advantages and disadvantages associate with each model. "
   ]
  },
  {
   "cell_type": "markdown",
   "metadata": {},
   "source": [
    "# 7. References <a class=\"anchor\" id=\"sec_7\"></a>"
   ]
  },
  {
   "cell_type": "markdown",
   "metadata": {},
   "source": [
    "- Multicolliearity:\n",
    "    - https://statisticsbyjim.com/regression/multicollinearity-in-regression-analysis/\n",
    "- KNN regression:\n",
    "    - https://daviddalpiaz.github.io/r4sl/knn-reg.html\n",
    "    - https://towardsdatascience.com/the-basics-knn-for-classification-and-regression-c1e8a6c955\n",
    "- Ridge regression\n",
    "    - https://stepupanalytics.com/ridge-regression-and-its-application/"
   ]
  }
 ],
 "metadata": {
  "kernelspec": {
   "display_name": "R",
   "language": "R",
   "name": "ir"
  },
  "language_info": {
   "codemirror_mode": "r",
   "file_extension": ".r",
   "mimetype": "text/x-r-source",
   "name": "R",
   "pygments_lexer": "r",
   "version": "3.6.1"
  }
 },
 "nbformat": 4,
 "nbformat_minor": 2
}
